{
 "cells": [
  {
   "cell_type": "markdown",
   "metadata": {},
   "source": [
    "### **Итоговое задание Альмира и Соколова Александра**  \n",
    "### по Проекту 6. Car Price prediction \n",
    "####  Юнит 6. Основные алгоритмы машинного обучения. Часть II (отредактирован 09.09.2020)\n",
    "---\n",
    "\n",
    "### 1. Импорт библиотек"
   ]
  },
  {
   "cell_type": "code",
   "execution_count": 145,
   "metadata": {
    "tags": []
   },
   "outputs": [
    {
     "output_type": "stream",
     "name": "stdout",
     "text": "['all_car_brands_and_their_models_from_auto_ru.csv', 'auto_ru.csv', 'bmw_small_test_ru.csv', 'test.csv']\n"
    }
   ],
   "source": [
    "import pandas as pd\n",
    "import requests, json\n",
    "import time\n",
    "import os\n",
    "print(os.listdir('./data'))\n",
    "PATH_to_file = './data/'"
   ]
  },
  {
   "cell_type": "markdown",
   "metadata": {},
   "source": [
    "### 2. Импорт данных о марках и моделях"
   ]
  },
  {
   "cell_type": "code",
   "execution_count": 146,
   "metadata": {
    "tags": []
   },
   "outputs": [
    {
     "output_type": "stream",
     "name": "stdout",
     "text": "Кол-во марок:  262\n"
    },
    {
     "output_type": "display_data",
     "data": {
      "text/plain": "                                                  Models\nMark                                                    \nAC                   ['378_GT', 'ACE', 'ACECA', 'COBRA']\nACURA  ['CL', 'CSX', 'EL', 'ILX', 'INTEGRA', 'LEGEND'...",
      "text/html": "<div>\n<style scoped>\n    .dataframe tbody tr th:only-of-type {\n        vertical-align: middle;\n    }\n\n    .dataframe tbody tr th {\n        vertical-align: top;\n    }\n\n    .dataframe thead th {\n        text-align: right;\n    }\n</style>\n<table border=\"1\" class=\"dataframe\">\n  <thead>\n    <tr style=\"text-align: right;\">\n      <th></th>\n      <th>Models</th>\n    </tr>\n    <tr>\n      <th>Mark</th>\n      <th></th>\n    </tr>\n  </thead>\n  <tbody>\n    <tr>\n      <th>AC</th>\n      <td>['378_GT', 'ACE', 'ACECA', 'COBRA']</td>\n    </tr>\n    <tr>\n      <th>ACURA</th>\n      <td>['CL', 'CSX', 'EL', 'ILX', 'INTEGRA', 'LEGEND'...</td>\n    </tr>\n  </tbody>\n</table>\n</div>"
     },
     "metadata": {}
    }
   ],
   "source": [
    "df_marks_and_models = pd.read_csv(PATH_to_file+'all_car_brands_and_their_models_from_auto_ru.csv', index_col=0)\n",
    "print('Кол-во марок: ', df_marks_and_models.shape[0])\n",
    "display(df_marks_and_models.head(2))"
   ]
  },
  {
   "cell_type": "markdown",
   "metadata": {},
   "source": [
    "### 2. Отбор марок для парсинга"
   ]
  },
  {
   "cell_type": "code",
   "execution_count": 147,
   "metadata": {},
   "outputs": [],
   "source": [
    "# кол-во объявлений на сайте на 9.9.2020 \n",
    "dict_of_num_cars_of_models ={'AC':2, 'Acura':94, 'Alfa Romeo':65, 'Alpina':10, \n",
    "                             'AMC':2, 'Ariel':1, 'Asia':1, 'Aston Martin':25, \n",
    "                             'Audi':4093, 'Austin Healey':1, 'Bajaj':3, \n",
    "                             'Bentley':104, 'BMW':7423, 'Borgward':1, \n",
    "                             'Brilliance':10, 'Buick':17, 'BYD':22, \n",
    "                             'Cadillac':321, 'Changan':100, 'Chery':593, \n",
    "                             'Chevrolet':3670, 'Chrysler':316, 'Citroen':1142, \n",
    "                             'Dacia':9, 'Daewoo':1024, 'Daihatsu':47, \n",
    "                             'Daimler':5, 'Datsun':212, 'Delage':1, 'Derways':2, \n",
    "                             'DKW':1, 'Dodge':413, 'DongFeng':25, 'Doninvest':2, \n",
    "                             'DS':3, 'DW Hower':8, 'Eagle':1, 'Excalibur':1, \n",
    "                             'FAW':66, 'Ferrari':29, 'Fiat':206, 'Ford':4812, \n",
    "                             'Foton':2, 'GAC':14, 'Geely':302, 'Genesis':54, \n",
    "                             'GMC':26, 'Great Wall':420, 'Hafei':6, 'Haima':12, \n",
    "                             'Haval':110, 'Hawtai':4, 'Heinkel':1, 'Honda':1179, \n",
    "                             'HuangHai':1, 'Hummer':70, 'Hyundai':5712, \n",
    "                             'Infiniti':1041, 'Innocenti':1, 'Iran Khodro':21, \n",
    "                             'Isuzu':43, 'JAC':8, 'Jaguar':308, 'Jeep':466, 'JMC':1, \n",
    "                             'Kia':5595, 'LADA (ВАЗ)':8935, 'Lamborghini':14, \n",
    "                             'Lancia':8, 'Land Rover':1616, 'Lexus':985, \n",
    "                             'Lifan':295, 'Lincoln':62, 'Lotus':1, 'Luxgen':9, \n",
    "                             'Mahindra':1, 'Maserati':54, 'Maybach':7, \n",
    "                             'Mazda':2311, 'McLaren':5, 'Mercedes-Benz':8005, \n",
    "                             'Mercury':16, 'Metrocab':2, 'MG':10, 'MINI':313, \n",
    "                             'Mitsubishi':3935, 'Mitsuoka':3, 'Nissan':5776, \n",
    "                             'Oldsmobile':10, 'Opel':3131, 'Packard':2, \n",
    "                             'Peugeot':1636, 'Plymouth':13, 'Pontiac':38, \n",
    "                             'Porsche':714, 'Proton':3, 'PUCH':1, 'Ravon':112, \n",
    "                             'Renault':2771, 'Rolls-Royce':55, 'Rover':69, \n",
    "                             'Saab':147, 'Saturn':9, 'Scion':9, 'SEAT':77, \n",
    "                             'Shanghai Maple':1, 'Skoda':2810, 'Smart':89, \n",
    "                             'SsangYong':718, 'Subaru':934, 'Suzuki':878, \n",
    "                             'Tatra':5, 'Tesla':43, 'Tianma':2, 'Toyota':4648, \n",
    "                             'Triumph':1, 'Vauxhall':1, 'Volkswagen':7109, \n",
    "                             'Volvo':2069, 'Vortex':91, 'Wartburg':1, 'Willys':2, \n",
    "                             'Zotye':15, 'ZX':4, 'ГАЗ':935, 'Гоночный болид':2, \n",
    "                             'ЗАЗ':231, 'ЗИЛ':2, 'ИЖ':129, 'ЛуАЗ':45, \n",
    "                             'Москвич':198, 'СМЗ':4, 'ТагАЗ':68, 'УАЗ':1107}"
   ]
  },
  {
   "cell_type": "code",
   "execution_count": 148,
   "metadata": {
    "tags": []
   },
   "outputs": [],
   "source": [
    "# уберем модели с кол-вом объявлений ниже 300 и повысим регистр индексов \n",
    "list_keys_to_delete = []\n",
    "for mark in dict_of_num_cars_of_models.keys():\n",
    "    if dict_of_num_cars_of_models[mark] < 300:\n",
    "        list_keys_to_delete.append(mark)\n",
    "    \n",
    "for key in list_keys_to_delete: del dict_of_num_cars_of_models[key]\n",
    "\n",
    "for mark in list(dict_of_num_cars_of_models.keys()):\n",
    "    mark_up = mark.upper()\n",
    "    dict_of_num_cars_of_models[mark_up]=dict_of_num_cars_of_models.pop(mark)"
   ]
  },
  {
   "cell_type": "code",
   "execution_count": 149,
   "metadata": {
    "tags": []
   },
   "outputs": [
    {
     "output_type": "stream",
     "name": "stdout",
     "text": "AUDI,BMW,CADILLAC,CHERY,CHEVROLET,CHRYSLER,CITROEN,DAEWOO,DODGE,FORD,GEELY,GREAT WALL,HONDA,HYUNDAI,INFINITI,JAGUAR,JEEP,KIA,LADA (ВАЗ),LAND ROVER,LEXUS,MAZDA,MERCEDES-BENZ,MINI,MITSUBISHI,NISSAN,OPEL,PEUGEOT,PORSCHE,RENAULT,SKODA,SSANGYONG,SUBARU,SUZUKI,TOYOTA,VOLKSWAGEN,VOLVO,ГАЗ,УАЗ\n"
    }
   ],
   "source": [
    "# посмотрим на список получившихся моделей\n",
    "print(*dict_of_num_cars_of_models, sep=',')"
   ]
  },
  {
   "cell_type": "code",
   "execution_count": 150,
   "metadata": {},
   "outputs": [],
   "source": [
    "# Удалим отечественные модели\n",
    "for key in ['LADA (ВАЗ)','ГАЗ','УАЗ']: del dict_of_num_cars_of_models[key]"
   ]
  },
  {
   "cell_type": "code",
   "execution_count": 151,
   "metadata": {
    "tags": []
   },
   "outputs": [
    {
     "output_type": "stream",
     "name": "stdout",
     "text": "всего марок с кол-вом объявлений более 300:= 36\nсписок марок, которые нужно проверить := GREAT WALL LAND ROVER MERCEDES-BENZ SSANGYONG\n"
    }
   ],
   "source": [
    "# проверим что названия моделей совпадаю с названиями каталога сайта auto.Ru\n",
    "list_marks_df = list(df_marks_and_models.index)\n",
    "list_marks_to_check = []\n",
    "for mark in dict_of_num_cars_of_models.keys():\n",
    "    if mark not in list_marks_df:\n",
    "        list_marks_to_check.append(mark)\n",
    "print(f'всего марок с кол-вом объявлений более 300:= {len(dict_of_num_cars_of_models)}')\n",
    "print('список марок, которые нужно проверить :=', *list_marks_to_check)"
   ]
  },
  {
   "cell_type": "code",
   "execution_count": 154,
   "metadata": {},
   "outputs": [
    {
     "output_type": "execute_result",
     "data": {
      "text/plain": "420"
     },
     "metadata": {},
     "execution_count": 154
    }
   ],
   "source": [
    "dict_of_num_cars_of_models['GREAT WALL']"
   ]
  },
  {
   "cell_type": "code",
   "execution_count": 155,
   "metadata": {},
   "outputs": [],
   "source": [
    "# исправим несоответствия\n",
    "dict_of_num_cars_of_models['GREAT_WALL']=dict_of_num_cars_of_models.pop('GREAT WALL')\n",
    "dict_of_num_cars_of_models['LAND_ROVER']=dict_of_num_cars_of_models.pop('LAND ROVER')\n",
    "dict_of_num_cars_of_models['MERCEDES']=dict_of_num_cars_of_models.pop('MERCEDES-BENZ')\n",
    "dict_of_num_cars_of_models['SSANG_YONG']=dict_of_num_cars_of_models.pop('SSANGYONG')"
   ]
  },
  {
   "cell_type": "code",
   "execution_count": 157,
   "metadata": {
    "tags": []
   },
   "outputs": [
    {
     "output_type": "stream",
     "name": "stdout",
     "text": "всего марок с кол-вом объявлений более 300 := 36\nсписок марок, которые нужно проверить :=\n"
    }
   ],
   "source": [
    "# еще раз проверим что названия моделей совпадаю с названиями каталога сайта auto.Ru\n",
    "list_marks_df = list(df_marks_and_models.index)\n",
    "list_marks_to_check = []\n",
    "for mark in dict_of_num_cars_of_models.keys():\n",
    "    if mark not in list_marks_df:\n",
    "        list_marks_to_check.append(mark)\n",
    "print(f'всего марок с кол-вом объявлений более 300 := {len(dict_of_num_cars_of_models)}')\n",
    "print('список марок, которые нужно проверить :=', *list_marks_to_check)"
   ]
  },
  {
   "cell_type": "code",
   "execution_count": 158,
   "metadata": {},
   "outputs": [],
   "source": [
    "# запишем список релевантных марок для парсинга\n",
    "list_of_relevant_marks = list(dict_of_num_cars_of_models.keys())"
   ]
  },
  {
   "cell_type": "code",
   "execution_count": 159,
   "metadata": {
    "tags": []
   },
   "outputs": [
    {
     "output_type": "stream",
     "name": "stdout",
     "text": "примерное кол-во строк после парсинга должно быть := 89189\n"
    }
   ],
   "source": [
    "sum_of_ads = sum(dict_of_num_cars_of_models.values())\n",
    "print(f\"примерное кол-во строк после парсинга должно быть := {sum_of_ads}\")"
   ]
  },
  {
   "cell_type": "markdown",
   "metadata": {},
   "source": [
    "### 3. Подготовка к парсингу"
   ]
  },
  {
   "cell_type": "code",
   "execution_count": 160,
   "metadata": {},
   "outputs": [],
   "source": [
    "HEADERS = {\n",
    "    'Accept': '*/*',\n",
    "    'Accept-Encoding': 'gzip, deflate, br',\n",
    "    'Accept-Language': 'ru-RU,ru;q=0.8,en-US;q=0.5,en;q=0.3',\n",
    "    'Connection': 'keep-alive',\n",
    "    'Content-Length': '137',\n",
    "    'content-type': 'application/json',\n",
    "    'Cookie': '_csrf_token=1c0ed592ec162073ac34d79ce511f0e50d195f763abd8c24; autoru_sid=a%3Ag5e3b198b299o5jhpv6nlk0ro4daqbpf.fa3630dbc880ea80147c661111fb3270%7C1580931467355.604800.8HnYnADZ6dSuzP1gctE0Fw.cd59AHgDSjoJxSYHCHfDUoj-f2orbR5pKj6U0ddu1G4; autoruuid=g5e3b198b299o5jhpv6nlk0ro4daqbpf.fa3630dbc880ea80147c661111fb3270; suid=48a075680eac323f3f9ad5304157467a.bc50c5bde34519f174ccdba0bd791787; from_lifetime=1580933172327; from=yandex; X-Vertis-DC=myt; crookie=bp+bI7U7P7sm6q0mpUwAgWZrbzx3jePMKp8OPHqMwu9FdPseXCTs3bUqyAjp1fRRTDJ9Z5RZEdQLKToDLIpc7dWxb90=; cmtchd=MTU4MDkzMTQ3MjU0NQ==; yandexuid=1758388111580931457; bltsr=1; ',\n",
    "    'Host': 'auto.ru',\n",
    "    'origin': 'https://auto.ru/cars/all/',\n",
    "    'Referer': 'https://auto.ru/cars/all/',\n",
    "    'User-Agent': 'Mozilla/5.0 (Windows NT 10.0; Win64; x64; rv:72.0) Gecko/20100101 Firefox/72.0',\n",
    "    'x-client-app-version': '202002.03.092255',\n",
    "    'x-client-date': '1580933207763',\n",
    "    'x-csrf-token': '1c0ed592ec162073ac34d79ce511f0e50d195f763abd8c24',\n",
    "    'x-page-request-id': '60142cd4f0c0edf51f96fd0134c6f02a',\n",
    "    'x-requested-with': 'fetch'\n",
    "}"
   ]
  },
  {
   "cell_type": "code",
   "execution_count": 161,
   "metadata": {},
   "outputs": [],
   "source": [
    "url = \"https://auto.ru/-/ajax/desktop/listing/\""
   ]
  },
  {
   "cell_type": "code",
   "execution_count": 162,
   "metadata": {
    "tags": []
   },
   "outputs": [
    {
     "output_type": "stream",
     "name": "stdout",
     "text": "Кол-во столбцов теста: 23\nНазвания столбцов теста: ['bodyType', 'brand', 'color', 'fuelType', 'modelDate', 'name', 'numberOfDoors', 'productionDate', 'vehicleConfiguration', 'vehicleTransmission', 'engineDisplacement', 'enginePower', 'description', 'mileage', 'Комплектация', 'Привод', 'Руль', 'Состояние', 'Владельцы', 'ПТС', 'Таможня', 'Владение', 'id']\n"
    },
    {
     "output_type": "execute_result",
     "data": {
      "text/plain": "  bodyType brand   color fuelType  modelDate                     name  \\\n0    седан   BMW  чёрный   дизель     2016.0  520d 2.0d AT (190 л.с.)   \n1    седан   BMW   белый   дизель     2018.0  318d 2.0d AT (150 л.с.)   \n\n   numberOfDoors  productionDate vehicleConfiguration vehicleTransmission  \\\n0            4.0          2017.0  SEDAN AUTOMATIC 2.0      автоматическая   \n1            4.0          2019.0  SEDAN AUTOMATIC 2.0      автоматическая   \n\n  engineDisplacement enginePower  \\\n0            2.0 LTR     190 N12   \n1            2.0 LTR     150 N12   \n\n                                         description   mileage  \\\n0  В РОЛЬФ Ясенево представлено более 500 автомоб...  158836.0   \n1  Автомобиль из демонстрационного парка по спец ...      10.0   \n\n                                        Комплектация  Привод   Руль  \\\n0  ['[{\"name\":\"Безопасность\",\"values\":[\"Антипробу...  задний  Левый   \n1  ['[{\"name\":\"Комфорт\",\"values\":[\"Круиз-контроль...  задний  Левый   \n\n            Состояние   Владельцы       ПТС     Таможня Владение  id  \n0  Не требует ремонта  1 владелец  Оригинал  Растаможен      NaN   0  \n1  Не требует ремонта  1 владелец  Оригинал  Растаможен      NaN   1  ",
      "text/html": "<div>\n<style scoped>\n    .dataframe tbody tr th:only-of-type {\n        vertical-align: middle;\n    }\n\n    .dataframe tbody tr th {\n        vertical-align: top;\n    }\n\n    .dataframe thead th {\n        text-align: right;\n    }\n</style>\n<table border=\"1\" class=\"dataframe\">\n  <thead>\n    <tr style=\"text-align: right;\">\n      <th></th>\n      <th>bodyType</th>\n      <th>brand</th>\n      <th>color</th>\n      <th>fuelType</th>\n      <th>modelDate</th>\n      <th>name</th>\n      <th>numberOfDoors</th>\n      <th>productionDate</th>\n      <th>vehicleConfiguration</th>\n      <th>vehicleTransmission</th>\n      <th>engineDisplacement</th>\n      <th>enginePower</th>\n      <th>description</th>\n      <th>mileage</th>\n      <th>Комплектация</th>\n      <th>Привод</th>\n      <th>Руль</th>\n      <th>Состояние</th>\n      <th>Владельцы</th>\n      <th>ПТС</th>\n      <th>Таможня</th>\n      <th>Владение</th>\n      <th>id</th>\n    </tr>\n  </thead>\n  <tbody>\n    <tr>\n      <th>0</th>\n      <td>седан</td>\n      <td>BMW</td>\n      <td>чёрный</td>\n      <td>дизель</td>\n      <td>2016.0</td>\n      <td>520d 2.0d AT (190 л.с.)</td>\n      <td>4.0</td>\n      <td>2017.0</td>\n      <td>SEDAN AUTOMATIC 2.0</td>\n      <td>автоматическая</td>\n      <td>2.0 LTR</td>\n      <td>190 N12</td>\n      <td>В РОЛЬФ Ясенево представлено более 500 автомоб...</td>\n      <td>158836.0</td>\n      <td>['[{\"name\":\"Безопасность\",\"values\":[\"Антипробу...</td>\n      <td>задний</td>\n      <td>Левый</td>\n      <td>Не требует ремонта</td>\n      <td>1 владелец</td>\n      <td>Оригинал</td>\n      <td>Растаможен</td>\n      <td>NaN</td>\n      <td>0</td>\n    </tr>\n    <tr>\n      <th>1</th>\n      <td>седан</td>\n      <td>BMW</td>\n      <td>белый</td>\n      <td>дизель</td>\n      <td>2018.0</td>\n      <td>318d 2.0d AT (150 л.с.)</td>\n      <td>4.0</td>\n      <td>2019.0</td>\n      <td>SEDAN AUTOMATIC 2.0</td>\n      <td>автоматическая</td>\n      <td>2.0 LTR</td>\n      <td>150 N12</td>\n      <td>Автомобиль из демонстрационного парка по спец ...</td>\n      <td>10.0</td>\n      <td>['[{\"name\":\"Комфорт\",\"values\":[\"Круиз-контроль...</td>\n      <td>задний</td>\n      <td>Левый</td>\n      <td>Не требует ремонта</td>\n      <td>1 владелец</td>\n      <td>Оригинал</td>\n      <td>Растаможен</td>\n      <td>NaN</td>\n      <td>1</td>\n    </tr>\n  </tbody>\n</table>\n</div>"
     },
     "metadata": {},
     "execution_count": 162
    }
   ],
   "source": [
    "# посмотрим какие столбцы нам нужны \n",
    "test = pd.read_csv(PATH_to_file+'test.csv')\n",
    "print('Кол-во столбцов теста:', test.shape[1])\n",
    "print('Названия столбцов теста:', list(test.columns))\n",
    "\n",
    "# вывод всех столбцов датафрейма\n",
    "pd.set_option('display.max_columns', None)\n",
    "test.head(2)"
   ]
  },
  {
   "cell_type": "code",
   "execution_count": 163,
   "metadata": {
    "tags": []
   },
   "outputs": [
    {
     "output_type": "stream",
     "name": "stdout",
     "text": "{'availability': 'IN_STOCK', 'category': 'cars', 'color_hex': '97948F', 'delivery_info': {}, 'description': 'Состояние нового авто. Использовалась летом в качестве машины выходного дня. Оригинальный пробег. Обслуживание у официального дилера. Новая резина. Состояние автомобиля гарантирую. ', 'documents': {'owners_number': 2, 'pts_original': True, 'custom_cleared': True, 'year': 2015, 'vin': 'WBS**************', 'pts': 'ORIGINAL', 'license_plate': '******|777', 'vin_resolution': 'OK'}, 'is_favorite': False, 'old_category_id': 15, 'owner_expenses': {'transport_tax': {'tax_by_year': 84000, 'year': 2020, 'rid': 213, 'rate': 150, 'horse_power': 560, 'holding_period_month': 12, 'boost': 1}, 'osago_insurance': [{'insurance_company': 'TINKOFF', 'price': 6309}]}, 'section': 'used', 'seller_type': 'PRIVATE', 'services': [{'service': 'all_sale_special', 'is_active': True, 'prolongable': False}, {'service': 'all_sale_toplist', 'is_active': True, 'prolongable': False}, {'service': 'all_sale_color', 'is_active': True, 'prolongable': False}, {'service': 'all_sale_fresh', 'create_date': '1599570133869', 'is_active': True, 'prolongable': False}], 'status': 'ACTIVE', 'tags': ['big', 'prestige', 'allowed_for_credit', 'fast', 'autoru_exclusive', 'vin_offers_history', 'options', 'available_for_checkup', 'style', 'handling', 'vin_resolution_ok', 'vin_checked', 'sport', 'no_accidents', 'low_mileage', 'pts_original'], 'additional_info': {'hidden': False, 'is_on_moderation': False, 'not_disturb': True, 'update_date': '1599570202000', 'creation_date': '1599483706078', 'mobile_autoservices_url': 'https://m.auto.ru/autoservice/all_works/BMW/?geo_id=213', 'hot_info': {'is_hot': False, 'start_time': '2020-07-27T12:12:35Z', 'end_time': '2020-07-27T12:12:35Z'}, 'fresh_date': '1599570133869', 'counters_start_date': '1599483706078', 'chat_only': False, 'dealer_card_promo': 'DONT_SHOW', 'review_summary': {}, 'price_stats': {}, 'booking': {}}, 'counters': {}, 'grouping_info': None, 'hash': '2f305392', 'id': '1099734178', 'price_info': {'price': 3600000, 'currency': 'RUR', 'EUR': 40117, 'RUR': 3600000, 'USD': 47391, 'with_nds': False}, 'price_history': [{'EUR': 40117, 'RUR': 3600000, 'USD': 47391, 'create_timestamp': 1595962571000}], 'recall_info': {}, 'saleId': '1099734178-2f305392', 'salon': None, 'seller': {'location': {'coord': {'latitude': 55.753216, 'longitude': 37.622505}, 'geobase_id': '213', 'region_info': {'id': '213', 'name': 'Москва', 'genitive': 'Москвы', 'dative': 'Москве', 'accusative': 'Москву', 'prepositional': 'Москве', 'preposition': 'в', 'latitude': 55.753215, 'longitude': 37.622504, 'parent_ids': ['213', '1', '3', '225', '10001', '10000']}, 'distance_to_selected_geo': [{'coord': {'latitude': 55.753215, 'longitude': 37.622504}, 'geobase_id': '213', 'region_info': {'id': '213', 'name': 'Москва', 'genitive': 'Москвы', 'dative': 'Москве', 'accusative': 'Москву', 'prepositional': 'Москве', 'preposition': 'в', 'latitude': 55.753215, 'longitude': 37.622504, 'supports_geo_radius': True}}], 'timezone_info': {'abbr': 'MSK', 'dst': False, 'name': 'Europe/Moscow', 'offset': 10800}}, 'name': 'id43580890', 'phones': [], 'redirect_phones': True, 'chats_enabled': True, 'call_hours': {'call_hour_start': 0, 'call_hour_end': 0, 'call_minute_end': 0, 'call_minute_start': 0}}, 'service_prices': [], 'state': {'mileage': 29000, 'state_not_beaten': True, 'image_urls': [{'sizes': {'small': '//avatars.mds.yandex.net/get-autoru-vos/2167142/da3423c53a4224a3fb9f2dd1f89a2004/small', 'thumb_m': '//avatars.mds.yandex.net/get-autoru-vos/2167142/da3423c53a4224a3fb9f2dd1f89a2004/thumb_m', '320x240': '//avatars.mds.yandex.net/get-autoru-vos/2167142/da3423c53a4224a3fb9f2dd1f89a2004/320x240', '456x342': '//avatars.mds.yandex.net/get-autoru-vos/2167142/da3423c53a4224a3fb9f2dd1f89a2004/456x342', '1200x900': '//avatars.mds.yandex.net/get-autoru-vos/2167142/da3423c53a4224a3fb9f2dd1f89a2004/1200x900', '1200x900n': '//avatars.mds.yandex.net/get-autoru-vos/2167142/da3423c53a4224a3fb9f2dd1f89a2004/1200x900n'}, 'preview': 'data:image/jpeg;base64,/9j/4AAQSkZJRgABAgAAAQABAAD/2wBDAAMCAgMCAgMDAwMEAwMEBQgFBQQEBQoHBwYIDAoMDAsKCwsNDhIQDQ4RDgsLEBYQERMUFRUVDA8XGBYUGBIUFRT/2wBDAQMEBAUEBQkFBQkUDQsNFBQUFBQUFBQUFBQUFBQUFBQUFBQUFBQUFBQUFBQUFBQUFBQUFBQUFBQUFBQUFBQUFBT/wAARCAASABgDASIAAhEBAxEB/8QAHwAAAQUBAQEBAQEAAAAAAAAAAAECAwQFBgcICQoL/8QAtRAAAgEDAwIEAwUFBAQAAAF9AQIDAAQRBRIhMUEGE1FhByJxFDKBkaEII0KxwRVS0fAkM2JyggkKFhcYGRolJicoKSo0NTY3ODk6Q0RFRkdISUpTVFVWV1hZWmNkZWZnaGlqc3R1dnd4eXqDhIWGh4iJipKTlJWWl5iZmqKjpKWmp6ipqrKztLW2t7i5usLDxMXGx8jJytLT1NXW19jZ2uHi4+Tl5ufo6erx8vP09fb3+Pn6/8QAHwEAAwEBAQEBAQEBAQAAAAAAAAECAwQFBgcICQoL/8QAtREAAgECBAQDBAcFBAQAAQJ3AAECAxEEBSExBhJBUQdhcRMiMoEIFEKRobHBCSMzUvAVYnLRChYkNOEl8RcYGRomJygpKjU2Nzg5OkNERUZHSElKU1RVVldYWVpjZGVmZ2hpanN0dXZ3eHl6goOEhYaHiImKkpOUlZaXmJmaoqOkpaanqKmqsrO0tba3uLm6wsPExcbHyMnK0tPU1dbX2Nna4uPk5ebn6Onq8vP09fb3+Pn6/9oADAMBAAIRAxEAPwDite+PXiTxgqafokam4mnZ/PmSNJJXbAJJIUc46k9TjvXH6l4l8SWeoPb62tzFcycyCU7EbgkAODtPUcgn8M17x8bv2TrqCXU9R8D2MLWd7D++sWZ0bzPmPmRsvyjOV+XAGVznk14D4P8AEfxc8FXFzoix6tb2uobVujq2nSyspC4JUtE/PvgdBzXhUsupVI3qS97vv/X3nJUoSXW5oxeKTqTk290VAhcPatCxZkBPzDIKsMjJGc9PvHNFdL8Jf2e/EPxKvby48S2t/wCG5GaSUai8y753L/KiW/lr5abTk/OecYA7FefVwkqU3GDuvkONCpbQ/QP/AJZH/PeluUV7W13ANhzjIz3oor10exIzLqJF1FUCKFC/dA46UUUVLJR//9k='}, {'sizes': {'small': '//avatars.mds.yandex.net/get-autoru-vos/2087663/e57200bb7b6bb0d8c27455356493db6b/small', 'thumb_m': '//avatars.mds.yandex.net/get-autoru-vos/2087663/e57200bb7b6bb0d8c27455356493db6b/thumb_m', '320x240': '//avatars.mds.yandex.net/get-autoru-vos/2087663/e57200bb7b6bb0d8c27455356493db6b/320x240', '456x342': '//avatars.mds.yandex.net/get-autoru-vos/2087663/e57200bb7b6bb0d8c27455356493db6b/456x342', '1200x900': '//avatars.mds.yandex.net/get-autoru-vos/2087663/e57200bb7b6bb0d8c27455356493db6b/1200x900', '1200x900n': '//avatars.mds.yandex.net/get-autoru-vos/2087663/e57200bb7b6bb0d8c27455356493db6b/1200x900n'}, 'preview': 'data:image/jpeg;base64,/9j/4AAQSkZJRgABAgAAAQABAAD/2wBDAAMCAgMCAgMDAwMEAwMEBQgFBQQEBQoHBwYIDAoMDAsKCwsNDhIQDQ4RDgsLEBYQERMUFRUVDA8XGBYUGBIUFRT/2wBDAQMEBAUEBQkFBQkUDQsNFBQUFBQUFBQUFBQUFBQUFBQUFBQUFBQUFBQUFBQUFBQUFBQUFBQUFBQUFBQUFBQUFBT/wAARCAASABgDASIAAhEBAxEB/8QAHwAAAQUBAQEBAQEAAAAAAAAAAAECAwQFBgcICQoL/8QAtRAAAgEDAwIEAwUFBAQAAAF9AQIDAAQRBRIhMUEGE1FhByJxFDKBkaEII0KxwRVS0fAkM2JyggkKFhcYGRolJicoKSo0NTY3ODk6Q0RFRkdISUpTVFVWV1hZWmNkZWZnaGlqc3R1dnd4eXqDhIWGh4iJipKTlJWWl5iZmqKjpKWmp6ipqrKztLW2t7i5usLDxMXGx8jJytLT1NXW19jZ2uHi4+Tl5ufo6erx8vP09fb3+Pn6/8QAHwEAAwEBAQEBAQEBAQAAAAAAAAECAwQFBgcICQoL/8QAtREAAgECBAQDBAcFBAQAAQJ3AAECAxEEBSExBhJBUQdhcRMiMoEIFEKRobHBCSMzUvAVYnLRChYkNOEl8RcYGRomJygpKjU2Nzg5OkNERUZHSElKU1RVVldYWVpjZGVmZ2hpanN0dXZ3eHl6goOEhYaHiImKkpOUlZaXmJmaoqOkpaanqKmqsrO0tba3uLm6wsPExcbHyMnK0tPU1dbX2Nna4uPk5ebn6Onq8vP09fb3+Pn6/9oADAMBAAIRAxEAPwD5T0XXL+b7Ra6VaT6pNEN09tZxk7EJHzdPlA+7nnrzX058M/hdPqGjwalqfi6Dw7eLCzyZKTw24PI3Sh1AwOTtDAHgnIIrxn4kfs1+IfBHjCTU/CPhu4ksJFKRJaTSSzI7ZyWLNndg4yOMe+Sel+Dn7JfxF8aX6v4ke88O6Arb2tppw7zN2wmSFI55PTjj086GHwzV6iuZzwvuqzd+umnyd/0Oo8PL4z8TyazHoFxceI7KzlME0ulv5yE5YLIMc7WCsVOOefcUV9aeAvhzofwR8MXlvo8ktubkeZc3BcvI7KuA2TnoOnGPairhhadW7hD8H+hxVMP7Nq9Rr7v1R1iW8TXEYMSEZHVRVwgLbEAYHHA/CiiuZfCj6B/EcN8T7iVPCesusrq62UrBgxBB2HnPrRRRTj1Jn0P/2Q=='}, {'sizes': {'small': '//avatars.mds.yandex.net/get-autoru-vos/1984354/3b828d3d612ed76e1871bed50a33f23e/small', 'thumb_m': '//avatars.mds.yandex.net/get-autoru-vos/1984354/3b828d3d612ed76e1871bed50a33f23e/thumb_m', '320x240': '//avatars.mds.yandex.net/get-autoru-vos/1984354/3b828d3d612ed76e1871bed50a33f23e/320x240', '456x342': '//avatars.mds.yandex.net/get-autoru-vos/1984354/3b828d3d612ed76e1871bed50a33f23e/456x342', '1200x900': '//avatars.mds.yandex.net/get-autoru-vos/1984354/3b828d3d612ed76e1871bed50a33f23e/1200x900', '1200x900n': '//avatars.mds.yandex.net/get-autoru-vos/1984354/3b828d3d612ed76e1871bed50a33f23e/1200x900n'}, 'preview': 'data:image/jpeg;base64,/9j/4AAQSkZJRgABAgAAAQABAAD/2wBDAAMCAgMCAgMDAwMEAwMEBQgFBQQEBQoHBwYIDAoMDAsKCwsNDhIQDQ4RDgsLEBYQERMUFRUVDA8XGBYUGBIUFRT/2wBDAQMEBAUEBQkFBQkUDQsNFBQUFBQUFBQUFBQUFBQUFBQUFBQUFBQUFBQUFBQUFBQUFBQUFBQUFBQUFBQUFBQUFBT/wAARCAASABgDASIAAhEBAxEB/8QAHwAAAQUBAQEBAQEAAAAAAAAAAAECAwQFBgcICQoL/8QAtRAAAgEDAwIEAwUFBAQAAAF9AQIDAAQRBRIhMUEGE1FhByJxFDKBkaEII0KxwRVS0fAkM2JyggkKFhcYGRolJicoKSo0NTY3ODk6Q0RFRkdISUpTVFVWV1hZWmNkZWZnaGlqc3R1dnd4eXqDhIWGh4iJipKTlJWWl5iZmqKjpKWmp6ipqrKztLW2t7i5usLDxMXGx8jJytLT1NXW19jZ2uHi4+Tl5ufo6erx8vP09fb3+Pn6/8QAHwEAAwEBAQEBAQEBAQAAAAAAAAECAwQFBgcICQoL/8QAtREAAgECBAQDBAcFBAQAAQJ3AAECAxEEBSExBhJBUQdhcRMiMoEIFEKRobHBCSMzUvAVYnLRChYkNOEl8RcYGRomJygpKjU2Nzg5OkNERUZHSElKU1RVVldYWVpjZGVmZ2hpanN0dXZ3eHl6goOEhYaHiImKkpOUlZaXmJmaoqOkpaanqKmqsrO0tba3uLm6wsPExcbHyMnK0tPU1dbX2Nna4uPk5ebn6Onq8vP09fb3+Pn6/9oADAMBAAIRAxEAPwDxnwx4nk8M6heXU88Om+aqtK+5Io0GMFic8feHPYnmvbrvwnZ6focWsQfF3wz4r1WK1MsemwX0LK8gTIjWRZuW6hfl5OPbHnkf7Ld1dfAfXYbqRbnxnq0cBinZgiW6iZZCp2jnIGDx6elec6L+yn8RGn02zj0jR9Pto2UTXENw7lxkHdhhkH7x4I+9Xl4fDUYqTq2bZyfVW2uZv5Hc6hr/AMTfD+uappTaNJp7vgQLIimOaRZFdVD52tyM4HUCivsjxx8M7H4keE7CyvXe3vrTEltdRcPFLtKk46EEEgg+vYgEFfQ4H+yKdLlxcZ81/s2tbS2+tzjxFLM1NLBuHLb7V73+WhCiKDCAoACr29q3bSNDK+VU4PpRRXzvRH0i3OpukVbQFVAO4cge1FFFMXU//9k='}, {'sizes': {'small': '//avatars.mds.yandex.net/get-autoru-vos/2079997/7f129316851a79b9d7884e8c76022099/small', 'thumb_m': '//avatars.mds.yandex.net/get-autoru-vos/2079997/7f129316851a79b9d7884e8c76022099/thumb_m', '320x240': '//avatars.mds.yandex.net/get-autoru-vos/2079997/7f129316851a79b9d7884e8c76022099/320x240', '456x342': '//avatars.mds.yandex.net/get-autoru-vos/2079997/7f129316851a79b9d7884e8c76022099/456x342', '1200x900': '//avatars.mds.yandex.net/get-autoru-vos/2079997/7f129316851a79b9d7884e8c76022099/1200x900', '1200x900n': '//avatars.mds.yandex.net/get-autoru-vos/2079997/7f129316851a79b9d7884e8c76022099/1200x900n'}, 'preview': 'data:image/jpeg;base64,/9j/4AAQSkZJRgABAgAAAQABAAD/2wBDAAMCAgMCAgMDAwMEAwMEBQgFBQQEBQoHBwYIDAoMDAsKCwsNDhIQDQ4RDgsLEBYQERMUFRUVDA8XGBYUGBIUFRT/2wBDAQMEBAUEBQkFBQkUDQsNFBQUFBQUFBQUFBQUFBQUFBQUFBQUFBQUFBQUFBQUFBQUFBQUFBQUFBQUFBQUFBQUFBT/wAARCAASABgDASIAAhEBAxEB/8QAHwAAAQUBAQEBAQEAAAAAAAAAAAECAwQFBgcICQoL/8QAtRAAAgEDAwIEAwUFBAQAAAF9AQIDAAQRBRIhMUEGE1FhByJxFDKBkaEII0KxwRVS0fAkM2JyggkKFhcYGRolJicoKSo0NTY3ODk6Q0RFRkdISUpTVFVWV1hZWmNkZWZnaGlqc3R1dnd4eXqDhIWGh4iJipKTlJWWl5iZmqKjpKWmp6ipqrKztLW2t7i5usLDxMXGx8jJytLT1NXW19jZ2uHi4+Tl5ufo6erx8vP09fb3+Pn6/8QAHwEAAwEBAQEBAQEBAQAAAAAAAAECAwQFBgcICQoL/8QAtREAAgECBAQDBAcFBAQAAQJ3AAECAxEEBSExBhJBUQdhcRMiMoEIFEKRobHBCSMzUvAVYnLRChYkNOEl8RcYGRomJygpKjU2Nzg5OkNERUZHSElKU1RVVldYWVpjZGVmZ2hpanN0dXZ3eHl6goOEhYaHiImKkpOUlZaXmJmaoqOkpaanqKmqsrO0tba3uLm6wsPExcbHyMnK0tPU1dbX2Nna4uPk5ebn6Onq8vP09fb3+Pn6/9oADAMBAAIRAxEAPwDJ8dfDe8sNBu7rxfp8K6PD+8IlAPl56ODn5VxjkY45NeJ+HfjFothfx6RItvrFhCZ0t2+7JbouPs5xghhknnIwG9Qc/Vv7SnwW0zSoI/EPiTxGsmg+HzuWy1fSlvTD5rrGNuzb5ylmUbXBx1ySMjw/xH+yT4g8R+GtM1bwJoekRzTnfHFe2g027A2DDeWHMaswUcMQc8kAjI82nhMPDp+LMo4dLY9N+Fnxl0aTwyttqOvXWi30zl5NM02KS6jUcBWLBV5IAJGOKK+JNfsPEPgTxTPoniaxvNG1mDHnWt7EVYZ6MOzKezAkHsaKp4Sgn8IcsVpY/ZL4yWkF1BYCaGOUC5UgOobkAsOvoyqR7gHtVzwtBG+jndGrfuSeVHXBP8+aKKqWyOynsz5Z/wCCmGn2s3gr4dX0ltC975s0X2lowZNmxTt3dcZ5x60UUVtHY463xn//2Q=='}, {'sizes': {'small': '//avatars.mds.yandex.net/get-autoru-vos/1975239/0b12265b364c6a95340c0c20aab3717b/small', 'thumb_m': '//avatars.mds.yandex.net/get-autoru-vos/1975239/0b12265b364c6a95340c0c20aab3717b/thumb_m', '320x240': '//avatars.mds.yandex.net/get-autoru-vos/1975239/0b12265b364c6a95340c0c20aab3717b/320x240', '456x342': '//avatars.mds.yandex.net/get-autoru-vos/1975239/0b12265b364c6a95340c0c20aab3717b/456x342', '1200x900': '//avatars.mds.yandex.net/get-autoru-vos/1975239/0b12265b364c6a95340c0c20aab3717b/1200x900', '1200x900n': '//avatars.mds.yandex.net/get-autoru-vos/1975239/0b12265b364c6a95340c0c20aab3717b/1200x900n'}, 'preview': 'data:image/jpeg;base64,/9j/4AAQSkZJRgABAgAAAQABAAD/2wBDAAMCAgMCAgMDAwMEAwMEBQgFBQQEBQoHBwYIDAoMDAsKCwsNDhIQDQ4RDgsLEBYQERMUFRUVDA8XGBYUGBIUFRT/2wBDAQMEBAUEBQkFBQkUDQsNFBQUFBQUFBQUFBQUFBQUFBQUFBQUFBQUFBQUFBQUFBQUFBQUFBQUFBQUFBQUFBQUFBT/wAARCAASABgDASIAAhEBAxEB/8QAHwAAAQUBAQEBAQEAAAAAAAAAAAECAwQFBgcICQoL/8QAtRAAAgEDAwIEAwUFBAQAAAF9AQIDAAQRBRIhMUEGE1FhByJxFDKBkaEII0KxwRVS0fAkM2JyggkKFhcYGRolJicoKSo0NTY3ODk6Q0RFRkdISUpTVFVWV1hZWmNkZWZnaGlqc3R1dnd4eXqDhIWGh4iJipKTlJWWl5iZmqKjpKWmp6ipqrKztLW2t7i5usLDxMXGx8jJytLT1NXW19jZ2uHi4+Tl5ufo6erx8vP09fb3+Pn6/8QAHwEAAwEBAQEBAQEBAQAAAAAAAAECAwQFBgcICQoL/8QAtREAAgECBAQDBAcFBAQAAQJ3AAECAxEEBSExBhJBUQdhcRMiMoEIFEKRobHBCSMzUvAVYnLRChYkNOEl8RcYGRomJygpKjU2Nzg5OkNERUZHSElKU1RVVldYWVpjZGVmZ2hpanN0dXZ3eHl6goOEhYaHiImKkpOUlZaXmJmaoqOkpaanqKmqsrO0tba3uLm6wsPExcbHyMnK0tPU1dbX2Nna4uPk5ebn6Onq8vP09fb3+Pn6/9oADAMBAAIRAxEAPwDwkfHXWviN471C7kvJPOllZlQnIhiBwqgcDAGB2ru9M8e39xp813a6is9tbECaRZcbc85xjp9Ca8t01vDFl4j8Q6qb+x0/Tb66MxVopla3VxgoQ0Z7lujfTNeg+H/H/wAONP0u502z1HS7iO6QLKCL2V2/FYG/z+FciguW0dEik0tDpIfitc/ZoHs7t7oynYQEyFOM8nAI/KisK48WeEJdLl0PR7y1sdUv0EMV3HbXryqQOCqtAo3YHXPSiue2up0vT4dTy2+le78NabDO7TQvexFo5DuU8seQa+hrO2h/sGyXyk2iEYG0YHWiito/Cc57J+zJY211r86TW8UyeW3yyIGH60UUVxVfiN4n/9k='}], 'images_count': 7}, 'sub_category': 'cars', 'vehicle_info': {'configuration': {'id': '7899864', 'body_type': 'COUPE', 'doors_count': 2, 'auto_class': 'E', 'human_name': 'Купе', 'trunk_volume_min': 460, 'body_type_group': 'COUPE', 'main_photo': {'sizes': {'orig': '//avatars.mds.yandex.net/get-verba/216201/2a000001609ce74d7ae08b36fbd163791168/orig', 'wizardv3mr': '//avatars.mds.yandex.net/get-verba/216201/2a000001609ce74d7ae08b36fbd163791168/wizardv3mr', 'cattouch': '//avatars.mds.yandex.net/get-verba/216201/2a000001609ce74d7ae08b36fbd163791168/cattouch'}}, 'tags': ['big', 'style']}, 'complectation': {'id': '0'}, 'mark_info': {'code': 'BMW', 'name': 'BMW', 'ru_name': 'БМВ', 'logo': {'name': 'mark-logo', 'sizes': {'logo': '//avatars.mds.yandex.net/get-verba/997355/2a00000170a99124c3a521a92b8cd4846660/logo', 'big-logo': '//avatars.mds.yandex.net/get-verba/997355/2a00000170a99124c3a521a92b8cd4846660/dealer_logo'}}}, 'model_info': {'code': 'M6', 'name': 'M6', 'ru_name': 'М6', 'morphology': {}, 'nameplate': {'code': '', 'name': '', 'semantic_url': ''}}, 'steering_wheel': 'LEFT', 'super_gen': {'id': '7899764', 'name': 'III (F06/F13/F12)', 'ru_name': '3 (F06/F13/F12)', 'year_from': 2012, 'year_to': 2018, 'price_segment': 'PREMIUM'}, 'tech_param': {'id': '7900064', 'displacement': 4395, 'engine_type': 'GASOLINE', 'gear_type': 'REAR_DRIVE', 'transmission': 'ROBOT', 'power': 560, 'power_kvt': 412, 'human_name': '4.4 AMT (560 л.с.)', 'acceleration': 4.2, 'clearance_min': 107, 'fuel_rate': 9.9}, 'vendor': 'EUROPEAN', 'equipment': {}}, 'lk_summary': '4.4\\xa0AMT (560\\xa0л.с.), купе, задний, бензин'}\n"
    }
   ],
   "source": [
    "# сделаем тестовый вызов запроса для BMW модели M6 и выведем его на экран, чтобы по нему можно было сделать функцию для создания 23 необходимых столбцов\n",
    "model = 'M6'\n",
    "param = {\n",
    "                'catalog_filter' : [{\"mark\": 'BMW', \"model\": model}],\n",
    "                'section': \"used\",\n",
    "                'category': \"cars\",\n",
    "                'sort': \"fresh_relevance_1-desc\",\n",
    "                \"top_days\":\"600\",\n",
    "                \"geo_radius\":200,\n",
    "                \"geo_id\":[213],\n",
    "                'page': 1\n",
    "            }\n",
    "\n",
    "response = requests.post(url, json=param, headers = HEADERS)\n",
    "data = response.json()\n",
    "for elem in data['offers']:\n",
    "    print(elem)\n",
    "    break"
   ]
  },
  {
   "cell_type": "code",
   "execution_count": 164,
   "metadata": {},
   "outputs": [
    {
     "output_type": "execute_result",
     "data": {
      "text/plain": "False"
     },
     "metadata": {},
     "execution_count": 164
    }
   ],
   "source": [
    "# строка для проверки содержания элемента запроса\n",
    "elem['additional_info']['hidden']"
   ]
  },
  {
   "cell_type": "code",
   "execution_count": 165,
   "metadata": {},
   "outputs": [],
   "source": [
    "def utils_clean_values_dict(d_dict):\n",
    "    for elem in d_dict:\n",
    "        d_dict[elem] = 0\n",
    "    return"
   ]
  },
  {
   "cell_type": "code",
   "execution_count": 166,
   "metadata": {},
   "outputs": [],
   "source": [
    "dict_columns = {'bodyType':0, 'brand':0, 'color':0, 'fuelType':0, 'modelDate':0, \n",
    "                'name':0, 'numberOfDoors':0, 'productionDate':0, \n",
    "                'vehicleConfiguration':0, 'vehicleTransmission':0, \n",
    "                'engineDisplacement':0, 'enginePower':0, 'description':0, \n",
    "                'mileage':0, 'Комплектация':0, 'Привод':0, 'Руль':0, \n",
    "                'Состояние':0, 'Владельцы':0, 'ПТС':0, 'Таможня':0, \n",
    "                'Владение':0, 'price':0}\n",
    "\n",
    "model = 'M6'\n",
    "# создаем функцию для обработки 23 необходимых столбцов\n",
    "def from_elem_to_dict(d_elem, d_dict):\n",
    "    utils_clean_values_dict(d_dict)\n",
    "    \n",
    "    try: d_dict['bodyType'] = d_elem['vehicle_info']['configuration']['human_name']\n",
    "    except: d_dict['bodyType'] = None\n",
    "\n",
    "    try: d_dict['brand'] = d_elem['vehicle_info']['mark_info']['code']\n",
    "    except: d_dict['brand'] = None\n",
    "\n",
    "    try: d_dict['color'] = d_elem['color_hex']\n",
    "    except: d_dict['color'] = None\n",
    "\n",
    "    try: d_dict['fuelType'] = d_elem['lk_summary'].split()[-1]\n",
    "    except: d_dict['fuelType'] = None\n",
    "\n",
    "    try: d_dict['modelDate'] = d_elem['vehicle_info']['super_gen']['year_from']\n",
    "    except: d_dict['modelDate'] = None\n",
    "\n",
    "    try: d_dict['name'] =  d_elem['vehicle_info']['tech_param']['human_name']\n",
    "    except: d_dict['name'] = None\n",
    "\n",
    "    try: d_dict['numberOfDoors'] = d_elem['vehicle_info']['configuration']['doors_count']\n",
    "    except: d_dict['numberOfDoors'] = None\n",
    "\n",
    "    try: d_dict['productionDate'] = d_elem['documents']['year']\n",
    "    except: d_dict['productionDate'] = None\n",
    "\n",
    "    try: d_dict['vehicleTransmission'] = d_elem['vehicle_info']['tech_param']['transmission']\n",
    "    except: d_dict['vehicleTransmission'] = None\n",
    "\n",
    "    try: d_dict['engineDisplacement'] = d_elem['vehicle_info']['tech_param']['human_name'].split()[0]\n",
    "    except: d_dict['engineDisplacement'] = None\n",
    "\n",
    "    try: d_dict['vehicleConfiguration'] = elem['vehicle_info']['configuration']['body_type']+' '+d_dict['vehicleTransmission']+' '+d_dict['engineDisplacement']\n",
    "    except: d_dict['vehicleConfiguration'] = None\n",
    "\n",
    "    try: d_dict['enginePower'] = d_elem['vehicle_info']['tech_param']['power']\n",
    "    except: d_dict['enginePower'] = None\n",
    "\n",
    "    try: d_dict['description'] = d_elem['description']\n",
    "    except: d_dict['description'] = None\n",
    "\n",
    "    try: d_dict['mileage'] = d_elem['state']['mileage']\n",
    "    except: d_dict['mileage'] = None\n",
    "\n",
    "    try: d_dict['Комплектация'] = d_elem['vehicle_info']['complectation']\n",
    "    except: d_dict['Комплектация'] = None\n",
    "\n",
    "    try: d_dict['Привод'] = d_elem['lk_summary'].split(', ')[-2]\n",
    "    except: d_dict['Привод'] = None\n",
    "\n",
    "    try: d_dict['Руль'] = d_elem['vehicle_info']['steering_wheel']\n",
    "    except: d_dict['Руль'] = None\n",
    "\n",
    "    # 'Состояние' не найдено\n",
    "    d_dict['Состояние'] = None\n",
    "\n",
    "    try: d_dict['Владельцы'] = d_elem['documents']['owners_number']\n",
    "    except: d_dict['Владельцы'] = None\n",
    "\n",
    "    try: d_dict['ПТС'] = d_elem['documents']['pts']\n",
    "    except: d_dict['ПТС'] = None\n",
    "\n",
    "    try: d_dict['Таможня'] = d_elem['documents']['custom_cleared']\n",
    "    except: d_dict['Таможня'] = None\n",
    "\n",
    "    try: d_dict['Владение'] =  d_elem['documents']['purchase_date']\n",
    "    except: d_dict['Владение'] = None\n",
    "\n",
    "\n",
    "    try: d_dict['price'] = d_elem['price_info']['RUR']\n",
    "    except: d_dict['price'] = None\n",
    "\n",
    "    # дата размещения объявления решил добавить \n",
    "    try: d_dict['start_date'] =  d_elem['additional_info']['hot_info']['start_time']\n",
    "    except: d_dict['start_date'] = None\n",
    "\n",
    "    # статус объявления \n",
    "    try: d_dict['hidden'] =  d_elemelem['additional_info']['hidden']\n",
    "    except: d_dict['hidden'] = None\n",
    "\n",
    "    # модель \n",
    "    d_dict['model'] =  model\n",
    "\n",
    "    return\n",
    "\n",
    "from_elem_to_dict(elem, dict_columns)"
   ]
  },
  {
   "cell_type": "code",
   "execution_count": 167,
   "metadata": {},
   "outputs": [
    {
     "output_type": "display_data",
     "data": {
      "text/plain": "   bodyType brand   color fuelType  modelDate                name  \\\nid     Купе   BMW  97948F   бензин       2012  4.4 AMT (560 л.с.)   \n\n    numberOfDoors  productionDate vehicleConfiguration vehicleTransmission  \\\nid              2            2015      COUPE ROBOT 4.4               ROBOT   \n\n   engineDisplacement  enginePower  \\\nid                4.4          560   \n\n                                          description  mileage Комплектация  \\\nid  Состояние нового авто. Использовалась летом в ...    29000            0   \n\n    Привод  Руль Состояние  Владельцы       ПТС  Таможня Владение    price  \\\nid  задний  LEFT      None          2  ORIGINAL     True     None  3600000   \n\n              start_date hidden model  \nid  2020-07-27T12:12:35Z   None    M6  ",
      "text/html": "<div>\n<style scoped>\n    .dataframe tbody tr th:only-of-type {\n        vertical-align: middle;\n    }\n\n    .dataframe tbody tr th {\n        vertical-align: top;\n    }\n\n    .dataframe thead th {\n        text-align: right;\n    }\n</style>\n<table border=\"1\" class=\"dataframe\">\n  <thead>\n    <tr style=\"text-align: right;\">\n      <th></th>\n      <th>bodyType</th>\n      <th>brand</th>\n      <th>color</th>\n      <th>fuelType</th>\n      <th>modelDate</th>\n      <th>name</th>\n      <th>numberOfDoors</th>\n      <th>productionDate</th>\n      <th>vehicleConfiguration</th>\n      <th>vehicleTransmission</th>\n      <th>engineDisplacement</th>\n      <th>enginePower</th>\n      <th>description</th>\n      <th>mileage</th>\n      <th>Комплектация</th>\n      <th>Привод</th>\n      <th>Руль</th>\n      <th>Состояние</th>\n      <th>Владельцы</th>\n      <th>ПТС</th>\n      <th>Таможня</th>\n      <th>Владение</th>\n      <th>price</th>\n      <th>start_date</th>\n      <th>hidden</th>\n      <th>model</th>\n    </tr>\n  </thead>\n  <tbody>\n    <tr>\n      <th>id</th>\n      <td>Купе</td>\n      <td>BMW</td>\n      <td>97948F</td>\n      <td>бензин</td>\n      <td>2012</td>\n      <td>4.4 AMT (560 л.с.)</td>\n      <td>2</td>\n      <td>2015</td>\n      <td>COUPE ROBOT 4.4</td>\n      <td>ROBOT</td>\n      <td>4.4</td>\n      <td>560</td>\n      <td>Состояние нового авто. Использовалась летом в ...</td>\n      <td>29000</td>\n      <td>0</td>\n      <td>задний</td>\n      <td>LEFT</td>\n      <td>None</td>\n      <td>2</td>\n      <td>ORIGINAL</td>\n      <td>True</td>\n      <td>None</td>\n      <td>3600000</td>\n      <td>2020-07-27T12:12:35Z</td>\n      <td>None</td>\n      <td>M6</td>\n    </tr>\n  </tbody>\n</table>\n</div>"
     },
     "metadata": {}
    },
    {
     "output_type": "execute_result",
     "data": {
      "text/plain": "    bodyType brand  color fuelType  modelDate                name  \\\n168     купе   BMW  синий   бензин     2012.0  4.4 AMT (560 л.с.)   \n276    седан   BMW  синий   бензин     2011.0  4.4 AMT (560 л.с.)   \n\n     numberOfDoors  productionDate vehicleConfiguration vehicleTransmission  \\\n168            2.0          2012.0      COUPE ROBOT 4.4    роботизированная   \n276            4.0          2016.0      SEDAN ROBOT 4.4    роботизированная   \n\n    engineDisplacement enginePower  \\\n168            4.4 LTR     560 N12   \n276            4.4 LTR     560 N12   \n\n                                           description  mileage  \\\n168  РОЛЬФ Премиум – крупнейший официальный дилер М...  61375.0   \n276                По ПТС два владельца, по факту один  80250.0   \n\n                                          Комплектация  Привод   Руль  \\\n168  ['[{\"name\":\"Комфорт\",\"values\":[\"Круиз-контроль...  задний  Левый   \n276  ['[{\"name\":\"Комфорт\",\"values\":[\"Круиз-контроль...  задний  Левый   \n\n              Состояние    Владельцы       ПТС     Таможня          Владение  \\\n168  Не требует ремонта  3 или более  Оригинал  Растаможен               NaN   \n276  Не требует ремонта  2 владельца  Оригинал  Растаможен  2 года и 1 месяц   \n\n      id  \n168  168  \n276  276  ",
      "text/html": "<div>\n<style scoped>\n    .dataframe tbody tr th:only-of-type {\n        vertical-align: middle;\n    }\n\n    .dataframe tbody tr th {\n        vertical-align: top;\n    }\n\n    .dataframe thead th {\n        text-align: right;\n    }\n</style>\n<table border=\"1\" class=\"dataframe\">\n  <thead>\n    <tr style=\"text-align: right;\">\n      <th></th>\n      <th>bodyType</th>\n      <th>brand</th>\n      <th>color</th>\n      <th>fuelType</th>\n      <th>modelDate</th>\n      <th>name</th>\n      <th>numberOfDoors</th>\n      <th>productionDate</th>\n      <th>vehicleConfiguration</th>\n      <th>vehicleTransmission</th>\n      <th>engineDisplacement</th>\n      <th>enginePower</th>\n      <th>description</th>\n      <th>mileage</th>\n      <th>Комплектация</th>\n      <th>Привод</th>\n      <th>Руль</th>\n      <th>Состояние</th>\n      <th>Владельцы</th>\n      <th>ПТС</th>\n      <th>Таможня</th>\n      <th>Владение</th>\n      <th>id</th>\n    </tr>\n  </thead>\n  <tbody>\n    <tr>\n      <th>168</th>\n      <td>купе</td>\n      <td>BMW</td>\n      <td>синий</td>\n      <td>бензин</td>\n      <td>2012.0</td>\n      <td>4.4 AMT (560 л.с.)</td>\n      <td>2.0</td>\n      <td>2012.0</td>\n      <td>COUPE ROBOT 4.4</td>\n      <td>роботизированная</td>\n      <td>4.4 LTR</td>\n      <td>560 N12</td>\n      <td>РОЛЬФ Премиум – крупнейший официальный дилер М...</td>\n      <td>61375.0</td>\n      <td>['[{\"name\":\"Комфорт\",\"values\":[\"Круиз-контроль...</td>\n      <td>задний</td>\n      <td>Левый</td>\n      <td>Не требует ремонта</td>\n      <td>3 или более</td>\n      <td>Оригинал</td>\n      <td>Растаможен</td>\n      <td>NaN</td>\n      <td>168</td>\n    </tr>\n    <tr>\n      <th>276</th>\n      <td>седан</td>\n      <td>BMW</td>\n      <td>синий</td>\n      <td>бензин</td>\n      <td>2011.0</td>\n      <td>4.4 AMT (560 л.с.)</td>\n      <td>4.0</td>\n      <td>2016.0</td>\n      <td>SEDAN ROBOT 4.4</td>\n      <td>роботизированная</td>\n      <td>4.4 LTR</td>\n      <td>560 N12</td>\n      <td>По ПТС два владельца, по факту один</td>\n      <td>80250.0</td>\n      <td>['[{\"name\":\"Комфорт\",\"values\":[\"Круиз-контроль...</td>\n      <td>задний</td>\n      <td>Левый</td>\n      <td>Не требует ремонта</td>\n      <td>2 владельца</td>\n      <td>Оригинал</td>\n      <td>Растаможен</td>\n      <td>2 года и 1 месяц</td>\n      <td>276</td>\n    </tr>\n  </tbody>\n</table>\n</div>"
     },
     "metadata": {},
     "execution_count": 167
    }
   ],
   "source": [
    "display(pd.DataFrame(dict_columns).head(2))\n",
    "test[test['enginePower']=='560 N12'].head(2)"
   ]
  },
  {
   "cell_type": "markdown",
   "metadata": {},
   "source": [
    "### 4. Парсинг"
   ]
  },
  {
   "cell_type": "code",
   "execution_count": 169,
   "metadata": {
    "tags": []
   },
   "outputs": [
    {
     "output_type": "stream",
     "name": "stdout",
     "text": "1.AUDI          ушло:200 сек., стр. 4099 из 4093 100.15%, всего стр. 4099, прогноз 4158 сек.\n2.BMW           ушло:309 сек., стр. 7426 из 7423 100.04%, всего стр. 11525, прогноз 3439 сек.\n3.CADILLAC      ушло:37 сек., стр. 325 из 321 101.25%,    всего стр. 11850, прогноз 3574 сек.\n4.CHERY         ушло:51 сек., стр. 568 из 593 95.78%,     всего стр. 12418, прогноз 3692 сек.\n5.CHEVROLET     ушло:165 сек., стр. 3675 из 3670 100.14%, всего стр. 16093, прогноз 3463 сек.\n6.CHRYSLER      ушло:36 сек., стр. 320 из 316 101.27%,    всего стр. 16413, прогноз 3546 сек.\n7.CITROEN       ушло:70 сек., стр. 1143 из 1142 100.09%,  всего стр. 17556, прогноз 3549 сек.\n8.DAEWOO        ушло:73 сек., стр. 1033 из 1024 100.88%,  всего стр. 18589, прогноз 3583 сек.\n9.DODGE         ушло:53 сек., стр. 416 из 413 100.73%,    всего стр. 19005, прогноз 3684 сек.\n10.FORD         ушло:272 сек., стр. 4794 из 4812 99.63%,  всего стр. 23799, прогноз 3487 сек.\n11.GEELY        ушло:16 сек., стр. 282 из 302 93.38%,     всего стр. 24081, прогноз 3471 сек.\n12.HONDA        ушло:118 сек., стр. 1181 из 1179 100.17%, всего стр. 25262, прогноз 3550 сек.\n13.HYUNDAI      ушло:216 сек., стр. 5739 из 5712 100.47%, всего стр. 31001, прогноз 3042 сек.\n14.INFINITI     ушло:60 сек., стр. 1045 из 1041 100.38%,  всего стр. 32046, прогноз 2999 сек.\n15.JAGUAR       ушло:55 сек., стр. 312 из 308 101.3%,     всего стр. 32358, прогноз 3052 сек.\n16.JEEP         ушло:37 сек., стр. 466 из 466 100.0%,     всего стр. 32824, прогноз 3047 сек.\n17.KIA          ушло:345 сек., стр. 5630 из 5595 100.63%, всего стр. 38454, прогноз 2802 сек.\n18.LEXUS        ушло:78 сек., стр. 994 из 985 100.91%,    всего стр. 39448, прогноз 2778 сек.\n19.MAZDA        ушло:166 сек., стр. 2324 из 2311 100.56%, всего стр. 41772, прогноз 2692 сек.\n20.MINI         ушло:12 сек., стр. 317 из 313 101.28%,    всего стр. 42089, прогноз 2669 сек.\n21.MITSUBISHI   ушло:187 сек., стр. 3939 из 3935 100.1%,  всего стр. 46028, прогноз 2413 сек.\n22.NISSAN       ушло:252 сек., стр. 5804 из 5776 100.48%, всего стр. 51832, прогноз 2040 сек.\n23.OPEL         ушло:141 сек., стр. 3111 из 3131 99.36%,  всего стр. 54943, прогноз 1851 сек.\n24.PEUGEOT      ушло:91 сек., стр. 1640 из 1636 100.24%,  всего стр. 56583, прогноз 1765 сек.\n25.PORSCHE      ушло:41 сек., стр. 710 из 714 99.44%,     всего стр. 57293, прогноз 1728 сек.\n26.RENAULT      ушло:142 сек., стр. 2774 из 2771 100.11%, всего стр. 60067, прогноз 1575 сек.\n27.SKODA        ушло:100 сек., стр. 2802 из 2810 99.72%,  всего стр. 62869, прогноз 1402 сек.\n28.SUBARU       ушло:60 сек., стр. 931 из 934 99.68%,     всего стр. 63800, прогноз 1356 сек.\n29.SUZUKI       ушло:58 сек., стр. 889 из 878 101.25%,    всего стр. 64689, прогноз 1314 сек.\n30.TOYOTA       ушло:267 сек., стр. 4659 из 4648 100.24%, всего стр. 69348, прогноз 1071 сек.\n31.VOLKSWAGEN   ушло:227 сек., стр. 7122 из 7109 100.18%, всего стр. 76470, прогноз 663 сек.\n32.VOLVO        ушло:124 сек., стр. 2070 из 2069 100.05%, всего стр. 78540, прогноз 559 сек.\n33.GREAT_WALL   ушло:22 сек., стр. 421 из 420 100.24%,    всего стр. 78961, прогноз 537 сек.\n34.LAND_ROVER   ушло:64 сек., стр. 1623 из 1616 100.43%,  всего стр. 80584, прогноз 451 сек.\n35.MERCEDES     ушло:305 сек., стр. 8050 из 8005 100.56%, всего стр. 88634, прогноз 36 сек.\n36.SSANG_YONG   ушло:33 сек., стр. 722 из 718 100.56%,    всего стр. 89356, прогноз 0 сек.\nвсего ушло: 75 мин., всего спарсили := 89356 строк\n"
    }
   ],
   "source": [
    "auto_ru = {}\n",
    "\n",
    "bodyType = brand = color = fuelType = modelDate = name = numberOfDoors = productionDate = transmission = engineDisplacement = enginePower = description = mileage = complectation = lk_summary_WD = steering_wheel = owners_number = pts = custom_cleared = purchase_date = Price = []\n",
    "\n",
    "iter_of_ads, iter_of_marks, old_iter_of_ads, sum_ads, sum_ads_from_dict = 0,0,0,0,0\n",
    "space = ' '\n",
    "\n",
    "start_time_global = time.clock()\n",
    "for mark in list_of_relevant_marks:\n",
    "    start_time = time.clock()\n",
    "    list_of_models = json.loads(df_marks_and_models.loc[mark, 'Models'].replace(\"'\", '\"'))\n",
    "    for model in list_of_models:\n",
    "        for num_page in range(1, 200):\n",
    "            param = {\n",
    "                'catalog_filter' : [{\"mark\": mark, \"model\": model}],\n",
    "                'section': \"all\",\n",
    "                'category': \"cars\",\n",
    "                'sort': \"fresh_relevance_1-desc\",\n",
    "                \"top_days\":\"900\",\n",
    "                \"geo_radius\":200,\n",
    "                \"geo_id\":[213],\n",
    "                'page': num_page\n",
    "            }\n",
    "            response = requests.post(url, json=param, headers = HEADERS)\n",
    "            data = response.json()\n",
    "\n",
    "            if data['offers'] != []:\n",
    "                for elem in data['offers']:\n",
    "                    from_elem_to_dict(elem, dict_columns)\n",
    "\n",
    "                    auto_ru[iter_of_ads] = dict_columns\n",
    "\n",
    "                    iter_of_ads += 1\n",
    "                    \n",
    "                \n",
    "            else:\n",
    "                break\n",
    "    iter_of_marks +=1\n",
    "    temp_1 = iter_of_ads-old_iter_of_ads\n",
    "    temp_2 = dict_of_num_cars_of_models[mark]\n",
    "    temp_3 = temp_1/temp_2\n",
    "    temp_4 = space*abs(13-len(mark)-len(str(iter_of_marks)))\n",
    "    temp_5 = int(time.clock() - start_time)\n",
    "    temp_8 = round(temp_3*100,2)\n",
    "    temp_7 = space*abs(18-len(str(temp_1))-len(str(temp_2))-len(str(temp_8))-len(str(temp_5)))\n",
    "    temp_9 = int(time.clock() - start_time_global)\n",
    "    \n",
    "\n",
    "    sum_ads += temp_1\n",
    "    sum_ads_from_dict += temp_2\n",
    "    temp_def = sum_ads/sum_ads_from_dict\n",
    "    temp_6 = (sum_of_ads*temp_def - iter_of_ads)*temp_9/sum_ads\n",
    "\n",
    "\n",
    "    print (f'{iter_of_marks}.{mark} {temp_4} ушло:{temp_5} сек., стр. {temp_1} из {temp_2} {temp_8}%,{temp_7}всего стр. {iter_of_ads}, прогноз {int(temp_6)} сек.')\n",
    "    old_iter_of_ads=iter_of_ads\n",
    "\n",
    "\n",
    "print (f'всего ушло: {int((time.clock() - start_time_global)/60)} мин., всего спарсили := {iter_of_ads} строк')"
   ]
  },
  {
   "cell_type": "code",
   "execution_count": 170,
   "metadata": {
    "tags": []
   },
   "outputs": [
    {
     "output_type": "stream",
     "name": "stdout",
     "text": "кол-во строк датасета:= 89356\n"
    }
   ],
   "source": [
    "# запись датасета\n",
    "df_auto_ru = pd.DataFrame(auto_ru).T\n",
    "df_auto_ru.to_csv(PATH_to_file+'all_auto_ru.csv', index=False)\n",
    "print(f'кол-во строк датасета:= {len(df_auto_ru)}')"
   ]
  },
  {
   "cell_type": "code",
   "execution_count": 171,
   "metadata": {},
   "outputs": [
    {
     "output_type": "execute_result",
     "data": {
      "text/plain": "  bodyType       brand   color fuelType modelDate                    name  \\\n0  Минивэн  SSANG_YONG  FAFBFB   дизель      2013  2.0d AT (149 л.с.) 4WD   \n1  Минивэн  SSANG_YONG  FAFBFB   дизель      2013  2.0d AT (149 л.с.) 4WD   \n2  Минивэн  SSANG_YONG  FAFBFB   дизель      2013  2.0d AT (149 л.с.) 4WD   \n\n  numberOfDoors productionDate    vehicleConfiguration vehicleTransmission  \\\n0             5           2014  MINIVAN AUTOMATIC 2.0d           AUTOMATIC   \n1             5           2014  MINIVAN AUTOMATIC 2.0d           AUTOMATIC   \n2             5           2014  MINIVAN AUTOMATIC 2.0d           AUTOMATIC   \n\n  engineDisplacement enginePower  \\\n0               2.0d         149   \n1               2.0d         149   \n2               2.0d         149   \n\n                                         description mileage Комплектация  \\\n0  Авто в отличном состоянии всё работает. Большо...  144000  {'id': '0'}   \n1  Авто в отличном состоянии всё работает. Большо...  144000  {'id': '0'}   \n2  Авто в отличном состоянии всё работает. Большо...  144000  {'id': '0'}   \n\n   Привод  Руль Состояние Владельцы       ПТС Таможня  \\\n0  полный  LEFT      None         2  ORIGINAL    True   \n1  полный  LEFT      None         2  ORIGINAL    True   \n2  полный  LEFT      None         2  ORIGINAL    True   \n\n                     Владение    price            start_date hidden   model  \n0  {'year': 2018, 'month': 6}  1075000  2020-08-10T11:30:29Z   None  STAVIC  \n1  {'year': 2018, 'month': 6}  1075000  2020-08-10T11:30:29Z   None  STAVIC  \n2  {'year': 2018, 'month': 6}  1075000  2020-08-10T11:30:29Z   None  STAVIC  ",
      "text/html": "<div>\n<style scoped>\n    .dataframe tbody tr th:only-of-type {\n        vertical-align: middle;\n    }\n\n    .dataframe tbody tr th {\n        vertical-align: top;\n    }\n\n    .dataframe thead th {\n        text-align: right;\n    }\n</style>\n<table border=\"1\" class=\"dataframe\">\n  <thead>\n    <tr style=\"text-align: right;\">\n      <th></th>\n      <th>bodyType</th>\n      <th>brand</th>\n      <th>color</th>\n      <th>fuelType</th>\n      <th>modelDate</th>\n      <th>name</th>\n      <th>numberOfDoors</th>\n      <th>productionDate</th>\n      <th>vehicleConfiguration</th>\n      <th>vehicleTransmission</th>\n      <th>engineDisplacement</th>\n      <th>enginePower</th>\n      <th>description</th>\n      <th>mileage</th>\n      <th>Комплектация</th>\n      <th>Привод</th>\n      <th>Руль</th>\n      <th>Состояние</th>\n      <th>Владельцы</th>\n      <th>ПТС</th>\n      <th>Таможня</th>\n      <th>Владение</th>\n      <th>price</th>\n      <th>start_date</th>\n      <th>hidden</th>\n      <th>model</th>\n    </tr>\n  </thead>\n  <tbody>\n    <tr>\n      <th>0</th>\n      <td>Минивэн</td>\n      <td>SSANG_YONG</td>\n      <td>FAFBFB</td>\n      <td>дизель</td>\n      <td>2013</td>\n      <td>2.0d AT (149 л.с.) 4WD</td>\n      <td>5</td>\n      <td>2014</td>\n      <td>MINIVAN AUTOMATIC 2.0d</td>\n      <td>AUTOMATIC</td>\n      <td>2.0d</td>\n      <td>149</td>\n      <td>Авто в отличном состоянии всё работает. Большо...</td>\n      <td>144000</td>\n      <td>{'id': '0'}</td>\n      <td>полный</td>\n      <td>LEFT</td>\n      <td>None</td>\n      <td>2</td>\n      <td>ORIGINAL</td>\n      <td>True</td>\n      <td>{'year': 2018, 'month': 6}</td>\n      <td>1075000</td>\n      <td>2020-08-10T11:30:29Z</td>\n      <td>None</td>\n      <td>STAVIC</td>\n    </tr>\n    <tr>\n      <th>1</th>\n      <td>Минивэн</td>\n      <td>SSANG_YONG</td>\n      <td>FAFBFB</td>\n      <td>дизель</td>\n      <td>2013</td>\n      <td>2.0d AT (149 л.с.) 4WD</td>\n      <td>5</td>\n      <td>2014</td>\n      <td>MINIVAN AUTOMATIC 2.0d</td>\n      <td>AUTOMATIC</td>\n      <td>2.0d</td>\n      <td>149</td>\n      <td>Авто в отличном состоянии всё работает. Большо...</td>\n      <td>144000</td>\n      <td>{'id': '0'}</td>\n      <td>полный</td>\n      <td>LEFT</td>\n      <td>None</td>\n      <td>2</td>\n      <td>ORIGINAL</td>\n      <td>True</td>\n      <td>{'year': 2018, 'month': 6}</td>\n      <td>1075000</td>\n      <td>2020-08-10T11:30:29Z</td>\n      <td>None</td>\n      <td>STAVIC</td>\n    </tr>\n    <tr>\n      <th>2</th>\n      <td>Минивэн</td>\n      <td>SSANG_YONG</td>\n      <td>FAFBFB</td>\n      <td>дизель</td>\n      <td>2013</td>\n      <td>2.0d AT (149 л.с.) 4WD</td>\n      <td>5</td>\n      <td>2014</td>\n      <td>MINIVAN AUTOMATIC 2.0d</td>\n      <td>AUTOMATIC</td>\n      <td>2.0d</td>\n      <td>149</td>\n      <td>Авто в отличном состоянии всё работает. Большо...</td>\n      <td>144000</td>\n      <td>{'id': '0'}</td>\n      <td>полный</td>\n      <td>LEFT</td>\n      <td>None</td>\n      <td>2</td>\n      <td>ORIGINAL</td>\n      <td>True</td>\n      <td>{'year': 2018, 'month': 6}</td>\n      <td>1075000</td>\n      <td>2020-08-10T11:30:29Z</td>\n      <td>None</td>\n      <td>STAVIC</td>\n    </tr>\n  </tbody>\n</table>\n</div>"
     },
     "metadata": {},
     "execution_count": 171
    }
   ],
   "source": [
    "# визуальный контроль\n",
    "df_auto_ru.head(3)"
   ]
  },
  {
   "cell_type": "markdown",
   "metadata": {},
   "source": [
    "Первоначальный парсинг показал, что на сайте много старых объявлений . Так изначально за последние 90 дней мы получили 43% от всех объявлений по BMW, поэтому пришлось скачать за последние 900 дней, чтобы получить полные цифры заявленные на сайте. "
   ]
  },
  {
   "cell_type": "code",
   "execution_count": null,
   "metadata": {},
   "outputs": [],
   "source": []
  }
 ],
 "metadata": {
  "kernelspec": {
   "display_name": "Python 3",
   "language": "python",
   "name": "python3"
  },
  "language_info": {
   "codemirror_mode": {
    "name": "ipython",
    "version": 3
   },
   "file_extension": ".py",
   "mimetype": "text/x-python",
   "name": "python",
   "nbconvert_exporter": "python",
   "pygments_lexer": "ipython3",
   "version": "3.7.4-final"
  }
 },
 "nbformat": 4,
 "nbformat_minor": 4
}