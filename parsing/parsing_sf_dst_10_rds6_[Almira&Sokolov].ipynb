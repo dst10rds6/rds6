{
 "cells": [
  {
   "cell_type": "markdown",
   "metadata": {},
   "source": [
    "### **Итоговое задание Альмира и Соколова Александра**  \n",
    "### по Проекту 6. Car Price prediction \n",
    "####  Юнит 6. Основные алгоритмы машинного обучения. Часть II (отредактирован 24.08.2020)\n",
    "---\n",
    "Часть 2 - Парсинг данных по списку всех марок и их моделей с сайта auto.ru \n",
    "\n",
    "## 1. Импорт библиотек"
   ]
  },
  {
   "cell_type": "code",
   "execution_count": 1,
   "metadata": {
    "tags": []
   },
   "outputs": [
    {
     "output_type": "stream",
     "name": "stdout",
     "text": "['all_car_brands_and_their_models_from_auto_ru.csv', 'auto_ru.csv']\n"
    }
   ],
   "source": [
    "import pandas as pd\n",
    "import requests, json\n",
    "import time\n",
    "import os\n",
    "print(os.listdir('./data'))\n",
    "PATH_to_file = './data/'"
   ]
  },
  {
   "cell_type": "markdown",
   "metadata": {},
   "source": [
    "### 2. Импорт данных от марках и моделях"
   ]
  },
  {
   "cell_type": "code",
   "execution_count": 2,
   "metadata": {
    "tags": []
   },
   "outputs": [
    {
     "output_type": "stream",
     "name": "stdout",
     "text": "Кол-во марок:  262\n"
    },
    {
     "output_type": "display_data",
     "data": {
      "text/plain": "                                                  Models\nMark                                                    \nAC                   ['378_GT', 'ACE', 'ACECA', 'COBRA']\nACURA  ['CL', 'CSX', 'EL', 'ILX', 'INTEGRA', 'LEGEND'...",
      "text/html": "<div>\n<style scoped>\n    .dataframe tbody tr th:only-of-type {\n        vertical-align: middle;\n    }\n\n    .dataframe tbody tr th {\n        vertical-align: top;\n    }\n\n    .dataframe thead th {\n        text-align: right;\n    }\n</style>\n<table border=\"1\" class=\"dataframe\">\n  <thead>\n    <tr style=\"text-align: right;\">\n      <th></th>\n      <th>Models</th>\n    </tr>\n    <tr>\n      <th>Mark</th>\n      <th></th>\n    </tr>\n  </thead>\n  <tbody>\n    <tr>\n      <th>AC</th>\n      <td>['378_GT', 'ACE', 'ACECA', 'COBRA']</td>\n    </tr>\n    <tr>\n      <th>ACURA</th>\n      <td>['CL', 'CSX', 'EL', 'ILX', 'INTEGRA', 'LEGEND'...</td>\n    </tr>\n  </tbody>\n</table>\n</div>"
     },
     "metadata": {}
    }
   ],
   "source": [
    "df_marks_and_models = pd.read_csv(PATH_to_file+'all_car_brands_and_their_models_from_auto_ru.csv', index_col=0)\n",
    "print('Кол-во марок: ', df_marks_and_models.shape[0])\n",
    "display(df_marks_and_models.head(2))"
   ]
  },
  {
   "cell_type": "markdown",
   "metadata": {},
   "source": [
    "### 2. Отбор релевантных марок для парсинга"
   ]
  },
  {
   "cell_type": "code",
   "execution_count": 3,
   "metadata": {},
   "outputs": [],
   "source": [
    "dict_of_num_cars_of_models ={'AC': 2, 'AMC': 2, 'Acura': 116, 'Alfa Romeo': 65, \n",
    "                             'Alpina': 10, 'Ariel': 1, 'Asia': 1, 'Aston Martin': 27, \n",
    "                             'Audi': 3848, 'BMW': 8295, 'BYD': 19, 'Bajaj': 1, \n",
    "                             'Bentley': 109, 'Borgward': 1, 'Brilliance': 11, \n",
    "                             'Buick': 14, 'Cadillac': 341, 'Changan': 98, 'Chery': 2574, \n",
    "                             'Chevrolet': 23883, 'Chrysler': 2313, 'Citroen': 21169, \n",
    "                             'DKW': 21, 'DS': 23, 'DW Hower': 28, 'Dacia': 29, \n",
    "                             'Daewoo': 1038, 'Daihatsu': 57, 'Daimler': 5, \n",
    "                             'Datsun': 210, 'Deco Rides': 1, 'Delage': 1, \n",
    "                             'Derways': 3, 'Dodge': 410, 'DongFeng': 22, 'Doninvest': 1, \n",
    "                             'Eagle': 2, 'Excalibur': 1, 'FAW': 70, 'Ferrari': 27, \n",
    "                             'Fiat': 235, 'Fisker': 1, 'Ford': 5265, 'Foton': 2, \n",
    "                             'GAC': 11,'GMC': 28, 'Geely': 224, 'Genesis': 64, \n",
    "                             'Great Wall': 430, 'Hafei': 6, 'Haima': 15, 'Haval': 101, \n",
    "                             'Hawtai': 4, 'Heinkel': 1, 'Honda': 1289, 'Hummer': 69, \n",
    "                             'Hyundai': 5850, 'Infiniti': 1041, 'Innocenti': 1, \n",
    "                             'Iran Khodro': 25, 'Isuzu': 39, 'JAC': 8, 'JMC': 1, \n",
    "                             'Jaguar': 314, 'Jeep': 476, 'Kia': 5885, 'LADA (ВАЗ)': 9288, \n",
    "                             'Lamborghini': 18, 'Lancia': 9, 'Land Rover': 1708, \n",
    "                             'Lexus': 1186, 'Lifan': 327, 'Lincoln': 67, 'Lotus': 1, \n",
    "                             'Luxgen': 10, 'MG': 11, 'MINI': 368, 'Mahindra': 1, \n",
    "                             'Maserati': 61, 'Maybach': 8, 'Mazda': 2508, 'McLaren': 4, \n",
    "                             'Mercedes-Benz': 8482, 'Mercury': 12, 'Metrocab': 3, \n",
    "                             'Mitsubishi': 4242, 'Mitsuoka': 3, 'Nissan': 5684, \n",
    "                             'Oldsmobile': 8, 'Opel': 3376, 'PUCH': 1, 'Packard': 2, \n",
    "                             'Peugeot': 1784, 'Plymouth': 11, 'Pontiac': 45, \n",
    "                             'Porsche': 815, 'Proton': 3, 'Ravon': 153, 'Renault': 3105, \n",
    "                             'Rolls-Royce': 47, 'Rover': 69, 'SEAT': 83, 'Saab': 158, \n",
    "                             'Saturn': 10, 'Scion': 9, 'Shanghai Maple': 2, 'Skoda': 3220, \n",
    "                             'Smart': 128, 'SsangYong': 755, 'Subaru': 1015, \n",
    "                             'Suzuki': 1103, 'Tatra': 5, 'Tesla': 45, 'Tianma': 2, \n",
    "                             'Tianye': 1, 'Toyota': 5420, 'Triumph': 1, 'Vauxhall': 1, \n",
    "                             'Volkswagen': 7144, 'Volvo': 1855, 'Vortex': 95, \n",
    "                             'Wartburg': 2, 'Willys': 2, 'ZX': 3, 'Zotye': 14, \n",
    "                             'ГАЗ': 959, 'Гоночный болид': 2, 'ЗАЗ': 253, 'ЗИЛ': 3, \n",
    "                             'ИЖ': 130, 'ЛуАЗ': 48, 'Москвич': 207, 'СМЗ': 3, \n",
    "                             'ТагАЗ': 73, 'УАЗ': 1133}"
   ]
  },
  {
   "cell_type": "code",
   "execution_count": 4,
   "metadata": {
    "tags": []
   },
   "outputs": [],
   "source": [
    "# уберем модели с кол-вом объявлений ниже 300 и повысим регистр индексов \n",
    "list_keys_to_delete = []\n",
    "for mark in dict_of_num_cars_of_models.keys():\n",
    "    if dict_of_num_cars_of_models[mark] < 300:\n",
    "        list_keys_to_delete.append(mark)\n",
    "    \n",
    "for key in list_keys_to_delete: del dict_of_num_cars_of_models[key]\n",
    "\n",
    "for mark in list(dict_of_num_cars_of_models.keys()):\n",
    "    mark_up = mark.upper()\n",
    "    dict_of_num_cars_of_models[mark_up]=dict_of_num_cars_of_models.pop(mark)"
   ]
  },
  {
   "cell_type": "code",
   "execution_count": 5,
   "metadata": {
    "tags": []
   },
   "outputs": [
    {
     "output_type": "stream",
     "name": "stdout",
     "text": "AUDI,BMW,CADILLAC,CHERY,CHEVROLET,CHRYSLER,CITROEN,DAEWOO,DODGE,FORD,GREAT WALL,HONDA,HYUNDAI,INFINITI,JAGUAR,JEEP,KIA,LADA (ВАЗ),LAND ROVER,LEXUS,LIFAN,MINI,MAZDA,MERCEDES-BENZ,MITSUBISHI,NISSAN,OPEL,PEUGEOT,PORSCHE,RENAULT,SKODA,SSANGYONG,SUBARU,SUZUKI,TOYOTA,VOLKSWAGEN,VOLVO,ГАЗ,УАЗ\n"
    }
   ],
   "source": [
    "# посмотрим на список получившихся моделей\n",
    "print(*dict_of_num_cars_of_models, sep=',')"
   ]
  },
  {
   "cell_type": "code",
   "execution_count": 6,
   "metadata": {},
   "outputs": [],
   "source": [
    "# Удалим отечественные модели\n",
    "for key in ['LADA (ВАЗ)','ГАЗ','УАЗ']: del dict_of_num_cars_of_models[key]"
   ]
  },
  {
   "cell_type": "code",
   "execution_count": 7,
   "metadata": {
    "tags": []
   },
   "outputs": [
    {
     "output_type": "stream",
     "name": "stdout",
     "text": "всего релевантных марок := 36\nсписок марок, которые нужно проверить := GREAT WALL LAND ROVER MERCEDES-BENZ SSANGYONG\n"
    }
   ],
   "source": [
    "# проверим что названия моделей совпадаю с названиями каталога сайта auto.Ru\n",
    "list_marks_df = list(df_marks_and_models.index)\n",
    "list_marks_to_check = []\n",
    "for mark in dict_of_num_cars_of_models.keys():\n",
    "    if mark not in list_marks_df:\n",
    "        list_marks_to_check.append(mark)\n",
    "print(f'всего релевантных марок := {len(dict_of_num_cars_of_models)}')\n",
    "print('список марок, которые нужно проверить :=', *list_marks_to_check)"
   ]
  },
  {
   "cell_type": "code",
   "execution_count": 8,
   "metadata": {},
   "outputs": [],
   "source": [
    "# исправим несоответствия\n",
    "dict_of_num_cars_of_models['GREAT_WALL']=dict_of_num_cars_of_models.pop('GREAT WALL')\n",
    "dict_of_num_cars_of_models['LAND_ROVER']=dict_of_num_cars_of_models.pop('LAND ROVER')\n",
    "dict_of_num_cars_of_models['MERCEDES']=dict_of_num_cars_of_models.pop('MERCEDES-BENZ')\n",
    "dict_of_num_cars_of_models['SSANG_YONG']=dict_of_num_cars_of_models.pop('SSANGYONG')"
   ]
  },
  {
   "cell_type": "code",
   "execution_count": 9,
   "metadata": {
    "tags": []
   },
   "outputs": [
    {
     "output_type": "stream",
     "name": "stdout",
     "text": "всего релевантных марок := 36\nсписок марок, которые нужно проверить :=\n"
    }
   ],
   "source": [
    "# еще раз проверим что названия моделей совпадаю с названиями каталога сайта auto.Ru\n",
    "list_marks_df = list(df_marks_and_models.index)\n",
    "list_marks_to_check = []\n",
    "for mark in dict_of_num_cars_of_models.keys():\n",
    "    if mark not in list_marks_df:\n",
    "        list_marks_to_check.append(mark)\n",
    "print(f'всего релевантных марок := {len(dict_of_num_cars_of_models)}')\n",
    "print('список марок, которые нужно проверить :=', *list_marks_to_check)"
   ]
  },
  {
   "cell_type": "code",
   "execution_count": 10,
   "metadata": {},
   "outputs": [],
   "source": [
    "# запишем список релевантных марок для парсинга\n",
    "list_of_relevant_marks = list(dict_of_num_cars_of_models.keys())"
   ]
  },
  {
   "cell_type": "code",
   "execution_count": 11,
   "metadata": {
    "tags": []
   },
   "outputs": [
    {
     "output_type": "stream",
     "name": "stdout",
     "text": "примерное кол-во строк после парсинга должно быть := 138518\n"
    }
   ],
   "source": [
    "sum_of_ads = sum(dict_of_num_cars_of_models.values())\n",
    "print(f\"примерное кол-во строк после парсинга должно быть := {sum_of_ads}\")"
   ]
  },
  {
   "cell_type": "markdown",
   "metadata": {},
   "source": [
    "### 3. Подготовка к парсингу"
   ]
  },
  {
   "cell_type": "code",
   "execution_count": 12,
   "metadata": {},
   "outputs": [],
   "source": [
    "HEADERS = {\n",
    "    'Accept': '*/*',\n",
    "    'Accept-Encoding': 'gzip, deflate, br',\n",
    "    'Accept-Language': 'ru-RU,ru;q=0.8,en-US;q=0.5,en;q=0.3',\n",
    "    'Connection': 'keep-alive',\n",
    "    'Content-Length': '137',\n",
    "    'content-type': 'application/json',\n",
    "    'Cookie': '_csrf_token=1c0ed592ec162073ac34d79ce511f0e50d195f763abd8c24; autoru_sid=a%3Ag5e3b198b299o5jhpv6nlk0ro4daqbpf.fa3630dbc880ea80147c661111fb3270%7C1580931467355.604800.8HnYnADZ6dSuzP1gctE0Fw.cd59AHgDSjoJxSYHCHfDUoj-f2orbR5pKj6U0ddu1G4; autoruuid=g5e3b198b299o5jhpv6nlk0ro4daqbpf.fa3630dbc880ea80147c661111fb3270; suid=48a075680eac323f3f9ad5304157467a.bc50c5bde34519f174ccdba0bd791787; from_lifetime=1580933172327; from=yandex; X-Vertis-DC=myt; crookie=bp+bI7U7P7sm6q0mpUwAgWZrbzx3jePMKp8OPHqMwu9FdPseXCTs3bUqyAjp1fRRTDJ9Z5RZEdQLKToDLIpc7dWxb90=; cmtchd=MTU4MDkzMTQ3MjU0NQ==; yandexuid=1758388111580931457; bltsr=1; ',\n",
    "    'Host': 'auto.ru',\n",
    "    'origin': 'https://auto.ru/cars/all/',\n",
    "    'Referer': 'https://auto.ru/cars/all/',\n",
    "    'User-Agent': 'Mozilla/5.0 (Windows NT 10.0; Win64; x64; rv:72.0) Gecko/20100101 Firefox/72.0',\n",
    "    'x-client-app-version': '202002.03.092255',\n",
    "    'x-client-date': '1580933207763',\n",
    "    'x-csrf-token': '1c0ed592ec162073ac34d79ce511f0e50d195f763abd8c24',\n",
    "    'x-page-request-id': '60142cd4f0c0edf51f96fd0134c6f02a',\n",
    "    'x-requested-with': 'fetch'\n",
    "}"
   ]
  },
  {
   "cell_type": "code",
   "execution_count": 13,
   "metadata": {},
   "outputs": [],
   "source": [
    "url = \"https://auto.ru/-/ajax/desktop/listing/\""
   ]
  },
  {
   "cell_type": "markdown",
   "metadata": {},
   "source": [
    "### 4. Парсинг"
   ]
  },
  {
   "cell_type": "code",
   "execution_count": 14,
   "metadata": {
    "tags": []
   },
   "outputs": [
    {
     "output_type": "stream",
     "name": "stdout",
     "text": "1.AUDI       ушло:91 сек., стр. 2215 из 3848 57.56%,  всего стр. 2215, прогноз 3223 сек.\n2.BMW        ушло:158 сек., стр. 3566 из 8295 42.99%, всего стр. 5781, прогноз 2721 сек.\n3.CADILLAC   ушло:34 сек., стр. 182 из 341 53.37%,    всего стр. 5963, прогноз 3004 сек.\n4.CHERY      ушло:31 сек., стр. 296 из 2574 11.5%,    всего стр. 6259, прогноз 2757 сек.\n5.CHEVROLET  ушло:137 сек., стр. 2236 из 23883 9.36%, всего стр. 8495, прогноз 1505 сек.\n6.CHRYSLER   ушло:48 сек., стр. 168 из 2313 7.26%,    всего стр. 8663, прогноз 1570 сек.\n7.CITROEN    ушло:68 сек., стр. 667 из 21169 3.15%,   всего стр. 9330, прогноз 1173 сек.\n8.DAEWOO     ушло:47 сек., стр. 700 из 1038 67.44%,   всего стр. 10030, прогноз 1243 сек.\n9.DODGE      ушло:28 сек., стр. 230 из 410 56.1%,     всего стр. 10260, прогноз 1289 сек.\n10.FORD      ушло:182 сек., стр. 3302 из 5265 62.72%,всего стр. 13562, прогноз 1489 сек.\n11.HONDA     ушло:97 сек., стр. 814 из 1289 63.15%,  всего стр. 14376, прогноз 1623 сек.\n12.HYUNDAI   ушло:172 сек., стр. 3425 из 5850 58.55%,всего стр. 17801, прогноз 1729 сек.\n13.INFINITI  ушло:36 сек., стр. 549 из 1041 52.74%,  всего стр. 18350, прогноз 1754 сек.\n14.JAGUAR    ушло:28 сек., стр. 182 из 314 57.96%,   всего стр. 18532, прогноз 1788 сек.\n15.JEEP      ушло:20 сек., стр. 250 из 476 52.52%,   всего стр. 18782, прогноз 1804 сек.\n16.KIA       ушло:205 сек., стр. 3602 из 5885 61.21%,всего стр. 22384, прогноз 1910 сек.\n17.LEXUS     ушло:40 сек., стр. 724 из 1186 61.05%,  всего стр. 23108, прогноз 1926 сек.\n18.LIFAN     ушло:23 сек., стр. 173 из 327 52.91%,   всего стр. 23281, прогноз 1947 сек.\n19.MINI      ушло:12 сек., стр. 169 из 368 45.92%,   всего стр. 23450, прогноз 1952 сек.\n20.MAZDA     ушло:145 сек., стр. 1486 из 2508 59.25%,всего стр. 24936, прогноз 2058 сек.\n21.MITSUBISHI    ушло:164 сек., стр. 2055 из 4242 48.44%,всего стр. 26991, прогноз 2126 сек.\n22.NISSAN    ушло:232 сек., стр. 3175 из 5684 55.86%,всего стр. 30166, прогноз 2202 сек.\n23.OPEL      ушло:98 сек., стр. 2027 из 3376 60.04%, всего стр. 32193, прогноз 2191 сек.\n24.PEUGEOT   ушло:56 сек., стр. 1032 из 1784 57.85%, всего стр. 33225, прогноз 2189 сек.\n25.PORSCHE   ушло:25 сек., стр. 492 из 815 60.37%,   всего стр. 33717, прогноз 2187 сек.\n26.RENAULT   ушло:93 сек., стр. 1849 из 3105 59.55%, всего стр. 35566, прогноз 2176 сек.\n27.SKODA     ушло:58 сек., стр. 1871 из 3220 58.11%, всего стр. 37437, прогноз 2127 сек.\n28.SUBARU    ушло:44 сек., стр. 511 из 1015 50.34%,  всего стр. 37948, прогноз 2137 сек.\n29.SUZUKI    ушло:48 сек., стр. 569 из 1103 51.59%,  всего стр. 38517, прогноз 2146 сек.\n30.TOYOTA    ушло:242 сек., стр. 2865 из 5420 52.86%,всего стр. 41382, прогноз 2188 сек.\n31.VOLKSWAGEN    ушло:164 сек., стр. 3793 из 7144 53.09%,всего стр. 45175, прогноз 2105 сек.\n32.VOLVO     ушло:73 сек., стр. 930 из 1855 50.13%,  всего стр. 46105, прогноз 2107 сек.\n33.GREAT_WALL    ушло:19 сек., стр. 252 из 430 58.6%,    всего стр. 46357, прогноз 2108 сек.\n34.LAND_ROVER    ушло:31 сек., стр. 917 из 1708 53.69%,  всего стр. 47274, прогноз 2081 сек.\n35.MERCEDES  ушло:191 сек., стр. 3906 из 8482 46.05%,всего стр. 51180, прогноз 1990 сек.\n36.SSANG_YONG    ушло:18 сек., стр. 419 из 755 55.5%,    всего стр. 51599, прогноз 1981 сек.\nвсего ушло: 3179 сек, всего строк 51599\n"
    }
   ],
   "source": [
    "auto_ru = {}\n",
    "\n",
    "bodyType = brand = color = fuelType = modelDate = name = numberOfDoors = productionDate = transmission = engineDisplacement = enginePower = description = mileage = complectation = lk_summary_WD = steering_wheel = owners_number = pts = custom_cleared = purchase_date = Price = []\n",
    "\n",
    "iter_of_ads, iter_of_marks, old_iter_of_ads, sum_ads, sum_ads_from_dict = 0,0,0,0,0\n",
    "space = ' '\n",
    "\n",
    "start_time_global = time.clock()\n",
    "for mark in list_of_relevant_marks:\n",
    "    start_time = time.clock()\n",
    "    list_of_models = json.loads(df_marks_and_models.loc[mark, 'Models'].replace(\"'\", '\"'))\n",
    "    for model in list_of_models:\n",
    "        for num_page in range(1, 100):\n",
    "            param = {\n",
    "                'catalog_filter' : [{\"mark\": mark, \"model\": model}],\n",
    "                'section': \"used\",\n",
    "                'category': \"cars\",\n",
    "                'sort': \"fresh_relevance_1-desc\",\n",
    "                \"top_days\":\"90\",\n",
    "                \"geo_radius\":200,\n",
    "                \"geo_id\":[213],\n",
    "                'page': num_page\n",
    "            }\n",
    "            response = requests.post(url, json=param, headers = HEADERS)\n",
    "            data = response.json()\n",
    "\n",
    "            if data['offers'] != []:\n",
    "                for i in data['offers']:\n",
    "                    # 1. bodyType:\n",
    "                    try: bodyType = i['vehicle_info']['configuration']['human_name']\n",
    "                    except: bodyType = None\n",
    "\n",
    "                    # 2. brand\n",
    "                    try: brand = i['vehicle_info']['mark_info']['code']\n",
    "                    except: brand = None\n",
    "\n",
    "                    # 3. color\n",
    "                    try: color = i['color_hex']\n",
    "                    except: color = None\n",
    "\n",
    "                    # 4. fuelType\n",
    "                    try: fuelType = i['lk_summary'].split()[-1]\n",
    "                    except: fuelType = None\n",
    "\n",
    "                    # 5. modelDate\n",
    "                    try: modelDate = i['vehicle_info']['super_gen']['year_from']\n",
    "                    except: modelDate = None\n",
    "\n",
    "                    # 6. name\n",
    "                    try: name =  i['vehicle_info']['tech_param']['human_name']\n",
    "                    except: name = None\n",
    "\n",
    "                    # 7. numberOfDoors\n",
    "                    try: numberOfDoors = i['vehicle_info']['configuration']['doors_count']\n",
    "                    except: numberOfDoors = None\n",
    "\n",
    "                    # 8. productionDate\n",
    "                    try: productionDate = i['documents']['year']\n",
    "                    except: productionDate = None\n",
    "\n",
    "                    # 9. vehicleConfiguration\n",
    "                    try: transmission = i['vehicle_info']['tech_param']['transmission']\n",
    "                    except: transmission = None\n",
    "\n",
    "                    # 10. engineDisplacement\n",
    "                    try: engineDisplacement = i['vehicle_info']['tech_param']['human_name'].split()[0]\n",
    "                    except: engineDisplacement = None\n",
    "\n",
    "                    # 11. enginePower\n",
    "                    try: enginePower = i['vehicle_info']['tech_param']['power']\n",
    "                    except: enginePower = None\n",
    "\n",
    "                    # 12. description\n",
    "                    try: description = i['description']\n",
    "                    except: description = None\n",
    "\n",
    "                    # 13. mileage\n",
    "                    try: mileage = i['state']['mileage']\n",
    "                    except: mileage = None\n",
    "\n",
    "                    # 14. Комплектация\n",
    "                    try: complectation = i['vehicle_info']['complectation']\n",
    "                    except: complectation = None\n",
    "\n",
    "                    # 15. Привод\n",
    "                    try: lk_summary_WD = i['lk_summary'].split(', ')[-2]\n",
    "                    except: lk_summary_WD = None\n",
    "\n",
    "                    # 16. Руль\n",
    "                    try: steering_wheel = i['vehicle_info']['steering_wheel']\n",
    "                    except: steering_wheel = None\n",
    "\n",
    "                    # 17. Владельцы\n",
    "                    try: owners_number = i['documents']['owners_number']\n",
    "                    except: owners_number = None\n",
    "\n",
    "                    # 18. ПТС\n",
    "                    try: pts = i['documents']['pts']\n",
    "                    except: pts = None\n",
    "\n",
    "                    # 19. Таможня\n",
    "                    try: custom_cleared = i['documents']['custom_cleared']\n",
    "                    except: custom_cleared = None\n",
    "\n",
    "                    # 20. Владение\n",
    "                    try: purchase_date =  i['documents']['purchase_date']\n",
    "                    except: purchase_date = None\n",
    "\n",
    "                    # 21. Дата размещения объявления\n",
    "                    try: start_date =  i['additional_info']['hot_info']['start_time']\n",
    "                    except: start_date = None\n",
    "\n",
    "                    # 22. Price\n",
    "                    try: Price = i['price_info']['RUR']\n",
    "                    except: Price = None\n",
    "\n",
    "                    auto_ru[iter_of_ads] = {'bodyType': bodyType,\n",
    "                                    'brand': brand,\n",
    "                                    'color': color,\n",
    "                                    'fuelType': fuelType,\n",
    "                                    'modelDate': modelDate,\n",
    "                                    'name': name,\n",
    "                                    'numberOfDoors': numberOfDoors,\n",
    "                                    'productionDate': productionDate,\n",
    "                                    'vehicleConfiguration': transmission,\n",
    "                                    'engineDisplacement': engineDisplacement,\n",
    "                                    'enginePower': enginePower,\n",
    "                                    'description': description,\n",
    "                                    'mileage': mileage,\n",
    "                                    'Комплектация': complectation,\n",
    "                                    'Привод': lk_summary_WD,\n",
    "                                    'Руль': steering_wheel,\n",
    "                                    'Владельцы': owners_number,\n",
    "                                    'ПТС': pts,\n",
    "                                    'Таможня': custom_cleared,\n",
    "                                    'Владение': purchase_date,\n",
    "                                    'Дата_объявления': start_date,\n",
    "                                    'Price': Price\n",
    "                    }\n",
    "\n",
    "                    iter_of_ads += 1\n",
    "                    \n",
    "                \n",
    "            else:\n",
    "                break\n",
    "    iter_of_marks +=1\n",
    "    temp_1 = iter_of_ads-old_iter_of_ads\n",
    "    temp_2 = dict_of_num_cars_of_models[mark]\n",
    "    temp_3 = temp_1/temp_2\n",
    "    temp_4 = space*abs(13-len(mark)-len(str(iter_of_marks)))\n",
    "    temp_5 = int(time.clock() - start_time)\n",
    "    temp_8 = round(temp_3*100,2)\n",
    "    temp_7 = space*abs(18-len(str(temp_1))-len(str(temp_2))-len(str(temp_8))-len(str(temp_5)))\n",
    "    temp_9 = int(time.clock() - start_time_global)\n",
    "    \n",
    "\n",
    "    sum_ads += temp_1\n",
    "    sum_ads_from_dict += temp_2\n",
    "    temp_def = sum_ads/sum_ads_from_dict\n",
    "    temp_6 = (sum_of_ads*temp_def - iter_of_ads)*temp_9/sum_ads\n",
    "\n",
    "\n",
    "    print (f'{iter_of_marks}.{mark} {temp_4} ушло:{temp_5} сек., стр. {temp_1} из {temp_2} {temp_8}%,{temp_7}всего стр. {iter_of_ads}, прогноз {int(temp_6)} сек.')\n",
    "    old_iter_of_ads=iter_of_ads\n",
    "\n",
    "\n",
    "print (f'всего ушло: {int((time.clock() - start_time_global)/60)} мин., всего спарсили := {iter_of_ads} строк')"
   ]
  },
  {
   "cell_type": "code",
   "execution_count": 15,
   "metadata": {},
   "outputs": [],
   "source": [
    "df_auto_ru = pd.DataFrame(auto_ru)\n",
    "df_auto_ru.T.to_csv('auto_ru.csv', index=False)"
   ]
  },
  {
   "cell_type": "code",
   "execution_count": 17,
   "metadata": {},
   "outputs": [
    {
     "output_type": "execute_result",
     "data": {
      "text/plain": "51599"
     },
     "metadata": {},
     "execution_count": 17
    }
   ],
   "source": [
    "len(df_auto_ru.T)"
   ]
  },
  {
   "cell_type": "code",
   "execution_count": null,
   "metadata": {},
   "outputs": [],
   "source": []
  }
 ],
 "metadata": {
  "kernelspec": {
   "display_name": "Python 3",
   "language": "python",
   "name": "python3"
  },
  "language_info": {
   "codemirror_mode": {
    "name": "ipython",
    "version": 3
   },
   "file_extension": ".py",
   "mimetype": "text/x-python",
   "name": "python",
   "nbconvert_exporter": "python",
   "pygments_lexer": "ipython3",
   "version": "3.7.4-final"
  }
 },
 "nbformat": 4,
 "nbformat_minor": 4
}